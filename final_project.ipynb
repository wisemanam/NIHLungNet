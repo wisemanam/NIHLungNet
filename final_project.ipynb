{
  "nbformat": 4,
  "nbformat_minor": 0,
  "metadata": {
    "accelerator": "GPU",
    "colab": {
      "name": "final_project.ipynb",
      "provenance": [],
      "collapsed_sections": [],
      "mount_file_id": "1-kkfDuwmS0_Lic6LbeZwhpSvhqVPlXFN",
      "authorship_tag": "ABX9TyOAfZv0BIhy5JLN6QlMk6Vc",
      "include_colab_link": true
    },
    "kernelspec": {
      "display_name": "Python 3",
      "name": "python3"
    },
    "language_info": {
      "name": "python"
    }
  },
  "cells": [
    {
      "cell_type": "markdown",
      "metadata": {
        "id": "view-in-github",
        "colab_type": "text"
      },
      "source": [
        "<a href=\"https://colab.research.google.com/github/wisemanam/NIHLungNet/blob/main/final_project.ipynb\" target=\"_parent\"><img src=\"https://colab.research.google.com/assets/colab-badge.svg\" alt=\"Open In Colab\"/></a>"
      ]
    },
    {
      "cell_type": "markdown",
      "metadata": {
        "id": "HjPIzBC2tniA"
      },
      "source": [
        "# Detecting Lung Disease Using CNNs"
      ]
    },
    {
      "cell_type": "code",
      "metadata": {
        "colab": {
          "base_uri": "https://localhost:8080/"
        },
        "id": "YIKhOrDUtsSO",
        "outputId": "f9f82312-363a-4f25-9258-8190ddcc51ec"
      },
      "source": [
        "%matplotlib inline\n",
        "\n",
        "import os\n",
        "import numpy as np\n",
        "import tensorflow as tf\n",
        "!pip install tensorflow_addons\n",
        "import tensorflow_addons as tfa\n",
        "import pandas as pd\n",
        "import keras\n",
        "from keras.applications import DenseNet121\n",
        "from keras.applications.densenet import preprocess_input\n",
        "from keras.models import Model\n",
        "from keras.layers import Flatten\n",
        "from keras.layers import Dense\n",
        "from keras.losses import CategoricalCrossentropy\n",
        "import matplotlib.pyplot as plt\n",
        "from keras.preprocessing.image import ImageDataGenerator\n",
        "from keras.layers import Dropout"
      ],
      "execution_count": 1,
      "outputs": [
        {
          "output_type": "stream",
          "text": [
            "Collecting tensorflow_addons\n",
            "\u001b[?25l  Downloading https://files.pythonhosted.org/packages/74/e3/56d2fe76f0bb7c88ed9b2a6a557e25e83e252aec08f13de34369cd850a0b/tensorflow_addons-0.12.1-cp37-cp37m-manylinux2010_x86_64.whl (703kB)\n",
            "\r\u001b[K     |▌                               | 10kB 21.4MB/s eta 0:00:01\r\u001b[K     |█                               | 20kB 28.3MB/s eta 0:00:01\r\u001b[K     |█▍                              | 30kB 24.1MB/s eta 0:00:01\r\u001b[K     |█▉                              | 40kB 18.2MB/s eta 0:00:01\r\u001b[K     |██▎                             | 51kB 16.3MB/s eta 0:00:01\r\u001b[K     |██▉                             | 61kB 14.5MB/s eta 0:00:01\r\u001b[K     |███▎                            | 71kB 16.0MB/s eta 0:00:01\r\u001b[K     |███▊                            | 81kB 16.4MB/s eta 0:00:01\r\u001b[K     |████▏                           | 92kB 15.6MB/s eta 0:00:01\r\u001b[K     |████▋                           | 102kB 16.8MB/s eta 0:00:01\r\u001b[K     |█████▏                          | 112kB 16.8MB/s eta 0:00:01\r\u001b[K     |█████▋                          | 122kB 16.8MB/s eta 0:00:01\r\u001b[K     |██████                          | 133kB 16.8MB/s eta 0:00:01\r\u001b[K     |██████▌                         | 143kB 16.8MB/s eta 0:00:01\r\u001b[K     |███████                         | 153kB 16.8MB/s eta 0:00:01\r\u001b[K     |███████▌                        | 163kB 16.8MB/s eta 0:00:01\r\u001b[K     |████████                        | 174kB 16.8MB/s eta 0:00:01\r\u001b[K     |████████▍                       | 184kB 16.8MB/s eta 0:00:01\r\u001b[K     |████████▉                       | 194kB 16.8MB/s eta 0:00:01\r\u001b[K     |█████████▎                      | 204kB 16.8MB/s eta 0:00:01\r\u001b[K     |█████████▉                      | 215kB 16.8MB/s eta 0:00:01\r\u001b[K     |██████████▎                     | 225kB 16.8MB/s eta 0:00:01\r\u001b[K     |██████████▊                     | 235kB 16.8MB/s eta 0:00:01\r\u001b[K     |███████████▏                    | 245kB 16.8MB/s eta 0:00:01\r\u001b[K     |███████████▋                    | 256kB 16.8MB/s eta 0:00:01\r\u001b[K     |████████████▏                   | 266kB 16.8MB/s eta 0:00:01\r\u001b[K     |████████████▋                   | 276kB 16.8MB/s eta 0:00:01\r\u001b[K     |█████████████                   | 286kB 16.8MB/s eta 0:00:01\r\u001b[K     |█████████████▌                  | 296kB 16.8MB/s eta 0:00:01\r\u001b[K     |██████████████                  | 307kB 16.8MB/s eta 0:00:01\r\u001b[K     |██████████████▍                 | 317kB 16.8MB/s eta 0:00:01\r\u001b[K     |███████████████                 | 327kB 16.8MB/s eta 0:00:01\r\u001b[K     |███████████████▍                | 337kB 16.8MB/s eta 0:00:01\r\u001b[K     |███████████████▉                | 348kB 16.8MB/s eta 0:00:01\r\u001b[K     |████████████████▎               | 358kB 16.8MB/s eta 0:00:01\r\u001b[K     |████████████████▊               | 368kB 16.8MB/s eta 0:00:01\r\u001b[K     |█████████████████▎              | 378kB 16.8MB/s eta 0:00:01\r\u001b[K     |█████████████████▊              | 389kB 16.8MB/s eta 0:00:01\r\u001b[K     |██████████████████▏             | 399kB 16.8MB/s eta 0:00:01\r\u001b[K     |██████████████████▋             | 409kB 16.8MB/s eta 0:00:01\r\u001b[K     |███████████████████             | 419kB 16.8MB/s eta 0:00:01\r\u001b[K     |███████████████████▋            | 430kB 16.8MB/s eta 0:00:01\r\u001b[K     |████████████████████            | 440kB 16.8MB/s eta 0:00:01\r\u001b[K     |████████████████████▌           | 450kB 16.8MB/s eta 0:00:01\r\u001b[K     |█████████████████████           | 460kB 16.8MB/s eta 0:00:01\r\u001b[K     |█████████████████████▍          | 471kB 16.8MB/s eta 0:00:01\r\u001b[K     |██████████████████████          | 481kB 16.8MB/s eta 0:00:01\r\u001b[K     |██████████████████████▍         | 491kB 16.8MB/s eta 0:00:01\r\u001b[K     |██████████████████████▉         | 501kB 16.8MB/s eta 0:00:01\r\u001b[K     |███████████████████████▎        | 512kB 16.8MB/s eta 0:00:01\r\u001b[K     |███████████████████████▊        | 522kB 16.8MB/s eta 0:00:01\r\u001b[K     |████████████████████████▎       | 532kB 16.8MB/s eta 0:00:01\r\u001b[K     |████████████████████████▊       | 542kB 16.8MB/s eta 0:00:01\r\u001b[K     |█████████████████████████▏      | 552kB 16.8MB/s eta 0:00:01\r\u001b[K     |█████████████████████████▋      | 563kB 16.8MB/s eta 0:00:01\r\u001b[K     |██████████████████████████      | 573kB 16.8MB/s eta 0:00:01\r\u001b[K     |██████████████████████████▋     | 583kB 16.8MB/s eta 0:00:01\r\u001b[K     |███████████████████████████     | 593kB 16.8MB/s eta 0:00:01\r\u001b[K     |███████████████████████████▌    | 604kB 16.8MB/s eta 0:00:01\r\u001b[K     |████████████████████████████    | 614kB 16.8MB/s eta 0:00:01\r\u001b[K     |████████████████████████████▍   | 624kB 16.8MB/s eta 0:00:01\r\u001b[K     |████████████████████████████▉   | 634kB 16.8MB/s eta 0:00:01\r\u001b[K     |█████████████████████████████▍  | 645kB 16.8MB/s eta 0:00:01\r\u001b[K     |█████████████████████████████▉  | 655kB 16.8MB/s eta 0:00:01\r\u001b[K     |██████████████████████████████▎ | 665kB 16.8MB/s eta 0:00:01\r\u001b[K     |██████████████████████████████▊ | 675kB 16.8MB/s eta 0:00:01\r\u001b[K     |███████████████████████████████▏| 686kB 16.8MB/s eta 0:00:01\r\u001b[K     |███████████████████████████████▊| 696kB 16.8MB/s eta 0:00:01\r\u001b[K     |████████████████████████████████| 706kB 16.8MB/s \n",
            "\u001b[?25hRequirement already satisfied: typeguard>=2.7 in /usr/local/lib/python3.7/dist-packages (from tensorflow_addons) (2.7.1)\n",
            "Installing collected packages: tensorflow-addons\n",
            "Successfully installed tensorflow-addons-0.12.1\n"
          ],
          "name": "stdout"
        }
      ]
    },
    {
      "cell_type": "markdown",
      "metadata": {
        "id": "swo4fAIztwPt"
      },
      "source": [
        "## Loading in the Data"
      ]
    },
    {
      "cell_type": "code",
      "metadata": {
        "id": "wjNPbqwit0v5"
      },
      "source": [
        "data_path = '/content/drive/MyDrive/data/xray_data/'\n",
        "train_path = data_path + 'train/'\n",
        "test_path = data_path + 'test/'"
      ],
      "execution_count": 2,
      "outputs": []
    },
    {
      "cell_type": "code",
      "metadata": {
        "colab": {
          "base_uri": "https://localhost:8080/"
        },
        "id": "bog1YqrBuLpd",
        "outputId": "808b5b19-fb65-4a96-a086-1b83528469b4"
      },
      "source": [
        "df = pd.read_csv(data_path + \"Data_Entry_2017.csv\")\n",
        "df[\"Finding Labels\"]=df[\"Finding Labels\"].apply(lambda x:x.split(\"|\"))\n",
        "classes = [\"No Finding\", \n",
        "           \"Atelectasis\", \n",
        "           \"Consolidation\", \n",
        "           \"Infiltration\",\n",
        "           \"Pneumothorax\",\n",
        "           \"Edema\",\n",
        "           \"Emphysema\",\n",
        "           \"Fibrosis\",\n",
        "           \"Effusion\",\n",
        "           \"Pneumonia\",\n",
        "           \"Pleural_Thickening\",\n",
        "           \"Cardiomegaly\",\n",
        "           \"Mass\",\n",
        "           \"Nodule\",\n",
        "           \"Hernia\"]\n",
        "\n",
        "datagen=ImageDataGenerator(rescale=1./255.)\n",
        "test_datagen=ImageDataGenerator(rescale=1./255.)\n",
        "\n",
        "# using 15000/86524 training images\n",
        "train_it=datagen.flow_from_dataframe(dataframe=df, \n",
        "                                            directory=train_path, \n",
        "                                            x_col=\"Image Index\", \n",
        "                                            y_col=\"Finding Labels\", \n",
        "                                            batch_size=32, \n",
        "                                            seed=42, \n",
        "                                            shuffle=True, \n",
        "                                            class_mode=\"categorical\",\n",
        "                                            classes=classes,\n",
        "                                            target_size=(1024,1024))\n",
        "\n",
        "# using 2000/~20000 testing images\n",
        "test_it=test_datagen.flow_from_dataframe(dataframe=df,\n",
        "                                                directory=test_path,\n",
        "                                                x_col=\"Image Index\",\n",
        "                                                y_col=\"Finding Labels\",\n",
        "                                                batch_size=1,\n",
        "                                                seed=42,\n",
        "                                                shuffle=False,\n",
        "                                                class_mode=\"categorical\",\n",
        "                                                classes=classes,\n",
        "                                                target_size=(1024,1024))"
      ],
      "execution_count": 10,
      "outputs": [
        {
          "output_type": "stream",
          "text": [
            "/usr/local/lib/python3.7/dist-packages/keras_preprocessing/image/dataframe_iterator.py:282: UserWarning: Found 89060 invalid image filename(s) in x_col=\"Image Index\". These filename(s) will be ignored.\n",
            "  .format(n_invalid, x_col)\n"
          ],
          "name": "stderr"
        },
        {
          "output_type": "stream",
          "text": [
            "Found 23060 validated image filenames belonging to 15 classes.\n",
            "Found 3210 validated image filenames belonging to 15 classes.\n"
          ],
          "name": "stdout"
        },
        {
          "output_type": "stream",
          "text": [
            "/usr/local/lib/python3.7/dist-packages/keras_preprocessing/image/dataframe_iterator.py:282: UserWarning: Found 108910 invalid image filename(s) in x_col=\"Image Index\". These filename(s) will be ignored.\n",
            "  .format(n_invalid, x_col)\n"
          ],
          "name": "stderr"
        }
      ]
    },
    {
      "cell_type": "code",
      "metadata": {
        "id": "kjGjiWX-a_xK",
        "outputId": "1fb14a1b-3918-4386-f863-21dee9903eca",
        "colab": {
          "base_uri": "https://localhost:8080/"
        }
      },
      "source": [
        "print(len(train_it.class_indices))"
      ],
      "execution_count": 9,
      "outputs": [
        {
          "output_type": "stream",
          "text": [
            "15\n"
          ],
          "name": "stdout"
        }
      ]
    },
    {
      "cell_type": "markdown",
      "metadata": {
        "id": "W-2yDhxOuYPx"
      },
      "source": [
        "## Creating the Model\n",
        "Next, I am going to create the model that will train on the Chest X-Rays. I am going to start with a pre-trained network and see if that helps training go more smoothly. I am using categorical crossentropy as my loss function to allow for multiple labels being present. I also use sigmoid activation to accommodate multiple labels. "
      ]
    },
    {
      "cell_type": "code",
      "metadata": {
        "colab": {
          "base_uri": "https://localhost:8080/"
        },
        "id": "igMp9o_tuZoD",
        "outputId": "2885d8c4-6ed3-45a3-99dd-2cab0fe81743"
      },
      "source": [
        "# load model without classifier layers\n",
        "model = DenseNet121(include_top=False, input_shape=(1024, 1024, 3), weights='imagenet', pooling='max')\n",
        "\n",
        "# add new classifier layers\n",
        "flat1 = Flatten()(model.layers[-1].output)\n",
        "class1 = Dense(1024, activation='sigmoid')(flat1)\n",
        "dropout = Dropout(0.2)\n",
        "output = Dense(15, activation='sigmoid')(class1)\n",
        "\n",
        "# define new model\n",
        "model = Model(inputs=model.inputs, outputs=output)\n",
        "\n",
        "for layer in model.layers[:-4]:\n",
        "    layer.trainable=False\n",
        "\n",
        "optimizer = keras.optimizers.Adam(lr=0.00001)\n",
        "model.compile(loss=[tfa.losses.SigmoidFocalCrossEntropy(gamma=4.0)], metrics=[\"accuracy\"], optimizer=optimizer)\n",
        "history = model.fit(train_it, batch_size=256, epochs=20, validation_data=test_it)\n",
        "\n",
        "# optimizer = keras.optimizers.Adam(lr=0.001)\n",
        "# model.compile(loss=[tfa.losses.SigmoidFocalCrossEntropy(gamma=4.0)], metrics=[\"accuracy\"], optimizer=optimizer)\n",
        "# history2 = model.fit(train_it, batch_size=256, epochs=20, validation_data=test_it)\n",
        "\n",
        "# optimizer = keras.optimizers.Adam(lr=0.0005)\n",
        "# model.compile(loss=[tfa.losses.SigmoidFocalCrossEntropy(gamma=4.0)], metrics=[\"accuracy\"], optimizer=optimizer)\n",
        "# history3 = model.fit(train_it, batch_size=256, epochs=20, validation_data=test_it)\n"
      ],
      "execution_count": 11,
      "outputs": [
        {
          "output_type": "stream",
          "text": [
            "Downloading data from https://storage.googleapis.com/tensorflow/keras-applications/densenet/densenet121_weights_tf_dim_ordering_tf_kernels_notop.h5\n",
            "29089792/29084464 [==============================] - 0s 0us/step\n",
            "Epoch 1/20\n",
            "721/721 [==============================] - 13921s 19s/step - loss: 0.3157 - accuracy: 0.4557 - val_loss: 0.1281 - val_accuracy: 0.3389\n",
            "Epoch 2/20\n",
            "721/721 [==============================] - 1022s 1s/step - loss: 0.0857 - accuracy: 0.5978 - val_loss: 0.1232 - val_accuracy: 0.3265\n",
            "Epoch 3/20\n",
            "721/721 [==============================] - 1020s 1s/step - loss: 0.0822 - accuracy: 0.5999 - val_loss: 0.1217 - val_accuracy: 0.3414\n",
            "Epoch 4/20\n",
            "721/721 [==============================] - 996s 1s/step - loss: 0.0804 - accuracy: 0.6045 - val_loss: 0.1218 - val_accuracy: 0.3436\n",
            "Epoch 5/20\n",
            "721/721 [==============================] - 991s 1s/step - loss: 0.0780 - accuracy: 0.6106 - val_loss: 0.1202 - val_accuracy: 0.3530\n",
            "Epoch 6/20\n",
            "721/721 [==============================] - 993s 1s/step - loss: 0.0768 - accuracy: 0.6170 - val_loss: 0.1168 - val_accuracy: 0.3393\n",
            "Epoch 7/20\n",
            "721/721 [==============================] - 978s 1s/step - loss: 0.0767 - accuracy: 0.6117 - val_loss: 0.1165 - val_accuracy: 0.3414\n",
            "Epoch 8/20\n",
            "721/721 [==============================] - 989s 1s/step - loss: 0.0760 - accuracy: 0.6187 - val_loss: 0.1163 - val_accuracy: 0.3461\n",
            "Epoch 9/20\n",
            "721/721 [==============================] - 991s 1s/step - loss: 0.0749 - accuracy: 0.6210 - val_loss: 0.1160 - val_accuracy: 0.3530\n",
            "Epoch 10/20\n",
            "721/721 [==============================] - 1002s 1s/step - loss: 0.0753 - accuracy: 0.6163 - val_loss: 0.1172 - val_accuracy: 0.3514\n",
            "Epoch 11/20\n",
            "721/721 [==============================] - 993s 1s/step - loss: 0.0739 - accuracy: 0.6213 - val_loss: 0.1147 - val_accuracy: 0.3393\n",
            "Epoch 12/20\n",
            "721/721 [==============================] - 968s 1s/step - loss: 0.0746 - accuracy: 0.6176 - val_loss: 0.1165 - val_accuracy: 0.3564\n",
            "Epoch 13/20\n",
            "721/721 [==============================] - 955s 1s/step - loss: 0.0739 - accuracy: 0.6164 - val_loss: 0.1150 - val_accuracy: 0.3461\n",
            "Epoch 14/20\n",
            "721/721 [==============================] - 971s 1s/step - loss: 0.0736 - accuracy: 0.6205 - val_loss: 0.1152 - val_accuracy: 0.3349\n",
            "Epoch 15/20\n",
            "721/721 [==============================] - 980s 1s/step - loss: 0.0738 - accuracy: 0.6187 - val_loss: 0.1170 - val_accuracy: 0.3555\n",
            "Epoch 16/20\n",
            "721/721 [==============================] - 959s 1s/step - loss: 0.0736 - accuracy: 0.6177 - val_loss: 0.1150 - val_accuracy: 0.3424\n",
            "Epoch 17/20\n",
            "721/721 [==============================] - 1017s 1s/step - loss: 0.0722 - accuracy: 0.6193 - val_loss: 0.1164 - val_accuracy: 0.3555\n",
            "Epoch 18/20\n",
            "721/721 [==============================] - 1031s 1s/step - loss: 0.0731 - accuracy: 0.6152 - val_loss: 0.1162 - val_accuracy: 0.3567\n",
            "Epoch 19/20\n",
            "721/721 [==============================] - 1050s 1s/step - loss: 0.0718 - accuracy: 0.6221 - val_loss: 0.1163 - val_accuracy: 0.3570\n",
            "Epoch 20/20\n",
            "721/721 [==============================] - 1064s 1s/step - loss: 0.0721 - accuracy: 0.6224 - val_loss: 0.1140 - val_accuracy: 0.3305\n"
          ],
          "name": "stdout"
        }
      ]
    },
    {
      "cell_type": "code",
      "metadata": {
        "colab": {
          "base_uri": "https://localhost:8080/",
          "height": 282
        },
        "id": "jD1p-iNWEsD8",
        "outputId": "26b10c55-c1fc-43b7-ec75-bebb213d3a38"
      },
      "source": [
        "plt.plot( history.epoch,history.history['loss'], label = 'loss' )\n",
        "plt.plot( history.epoch,history.history['val_loss'], label = 'val_loss' )\n",
        "plt.legend()\n",
        "\n",
        "plt.plot( history.epoch,history.history['accuracy'], label = 'accuracy' )\n",
        "plt.plot( history.epoch,history.history['val_accuracy'], label = 'val_accuracy' )\n",
        "plt.legend()"
      ],
      "execution_count": 12,
      "outputs": [
        {
          "output_type": "execute_result",
          "data": {
            "text/plain": [
              "<matplotlib.legend.Legend at 0x7f255c5b3350>"
            ]
          },
          "metadata": {
            "tags": []
          },
          "execution_count": 12
        },
        {
          "output_type": "display_data",
          "data": {
            "image/png": "[encoded data removed]",
            "text/plain": [
              "<Figure size 432x288 with 1 Axes>"
            ]
          },
          "metadata": {
            "tags": [],
            "needs_background": "light"
          }
        }
      ]
    },
    {
      "cell_type": "code",
      "metadata": {
        "id": "ceVzSGLNBu7a",
        "colab": {
          "base_uri": "https://localhost:8080/"
        },
        "outputId": "ffc091ce-788e-49fc-836f-099dc9d0c3b7"
      },
      "source": [
        "model.evaluate(test_it)"
      ],
      "execution_count": 13,
      "outputs": [
        {
          "output_type": "stream",
          "text": [
            "3210/3210 [==============================] - 136s 42ms/step - loss: 0.1140 - accuracy: 0.3305\n"
          ],
          "name": "stdout"
        },
        {
          "output_type": "execute_result",
          "data": {
            "text/plain": [
              "[0.11404073983430862, 0.3305296003818512]"
            ]
          },
          "metadata": {
            "tags": []
          },
          "execution_count": 13
        }
      ]
    }
  ]
}