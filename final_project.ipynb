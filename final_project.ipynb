{
  "nbformat": 4,
  "nbformat_minor": 0,
  "metadata": {
    "colab": {
      "name": "final_project.ipynb",
      "provenance": [],
      "mount_file_id": "1-kkfDuwmS0_Lic6LbeZwhpSvhqVPlXFN",
      "authorship_tag": "ABX9TyOAQOn0Wh4XgC6hcewdvGsX",
      "include_colab_link": true
    },
    "kernelspec": {
      "name": "python3",
      "display_name": "Python 3"
    },
    "language_info": {
      "name": "python"
    },
    "accelerator": "GPU"
  },
  "cells": [
    {
      "cell_type": "markdown",
      "metadata": {
        "id": "view-in-github",
        "colab_type": "text"
      },
      "source": [
        "<a href=\"https://colab.research.google.com/github/wisemanam/NIHLungNet/blob/main/final_project.ipynb\" target=\"_parent\"><img src=\"https://colab.research.google.com/assets/colab-badge.svg\" alt=\"Open In Colab\"/></a>"
      ]
    },
    {
      "cell_type": "markdown",
      "metadata": {
        "id": "HjPIzBC2tniA"
      },
      "source": [
        "# Detecting Lung Disease Using CNNs"
      ]
    },
    {
      "cell_type": "code",
      "metadata": {
        "id": "YIKhOrDUtsSO",
        "colab": {
          "base_uri": "https://localhost:8080/"
        },
        "outputId": "15c0a367-08cf-4285-bb46-1922e95e877e"
      },
      "source": [
        "%matplotlib inline\n",
        "\n",
        "import os\n",
        "import numpy as np\n",
        "import tensorflow as tf\n",
        "!pip install tensorflow_addons\n",
        "import tensorflow_addons as tfa\n",
        "import pandas as pd\n",
        "from keras.applications import DenseNet121\n",
        "from keras.applications.densenet import preprocess_input\n",
        "from keras.models import Model\n",
        "from keras.layers import Flatten\n",
        "from keras.layers import Dense\n",
        "from keras.layers import Conv2D\n",
        "from keras.losses import CategoricalCrossentropy\n",
        "import matplotlib.pyplot as plt\n",
        "from keras.preprocessing.image import ImageDataGenerator"
      ],
      "execution_count": 7,
      "outputs": [
        {
          "output_type": "stream",
          "text": [
            "Requirement already satisfied: tensorflow_addons in /usr/local/lib/python3.7/dist-packages (0.12.1)\n",
            "Requirement already satisfied: typeguard>=2.7 in /usr/local/lib/python3.7/dist-packages (from tensorflow_addons) (2.7.1)\n"
          ],
          "name": "stdout"
        }
      ]
    },
    {
      "cell_type": "markdown",
      "metadata": {
        "id": "swo4fAIztwPt"
      },
      "source": [
        "## Loading in the Data"
      ]
    },
    {
      "cell_type": "code",
      "metadata": {
        "id": "wjNPbqwit0v5"
      },
      "source": [
        "data_path = '/content/drive/MyDrive/data/xray_data/'\n",
        "train_path = data_path + 'train/'\n",
        "test_path = data_path + 'test/'"
      ],
      "execution_count": 2,
      "outputs": []
    },
    {
      "cell_type": "code",
      "metadata": {
        "id": "bog1YqrBuLpd",
        "colab": {
          "base_uri": "https://localhost:8080/"
        },
        "outputId": "439ac1e6-df5d-42ea-9d37-54eadff1c6cd"
      },
      "source": [
        "df = pd.read_csv(data_path + \"Data_Entry_2017.csv\")\n",
        "# df[\"Finding Labels\"]=df[\"Finding Labels\"].apply(lambda x:x.split(\",\"))\n",
        "classes = [\"No Finding\", \n",
        "           \"Atelectasis\", \n",
        "           \"Consolidation\", \n",
        "           \"Infiltration\",\n",
        "           \"Pneumothorax\",\n",
        "           \"Edema\",\n",
        "           \"Emphysema\",\n",
        "           \"Fibrosis\",\n",
        "           \"Effusion\",\n",
        "           \"Pneumonia\",\n",
        "           \"Pleural_Thickening\",\n",
        "           \"Cardiomegaly\",\n",
        "           \"Mass\",\n",
        "           \"Nodule\",\n",
        "           \"Hernia\"]\n",
        "\n",
        "datagen=ImageDataGenerator(rescale=1./255.)\n",
        "test_datagen=ImageDataGenerator(rescale=1./255.)\n",
        "\n",
        "# using 15000/86524 training images\n",
        "train_it=datagen.flow_from_dataframe(dataframe=df, \n",
        "                                            directory=train_path, \n",
        "                                            x_col=\"Image Index\", \n",
        "                                            y_col=\"Finding Labels\", \n",
        "                                            batch_size=32, \n",
        "                                            seed=42, \n",
        "                                            shuffle=True, \n",
        "                                            class_mode=\"categorical\",\n",
        "                                            classes=classes,\n",
        "                                            target_size=(1024,1024))\n",
        "\n",
        "# using 2000/~20000 testing images\n",
        "test_it=test_datagen.flow_from_dataframe(dataframe=df,\n",
        "                                                directory=test_path,\n",
        "                                                x_col=\"Image Index\",\n",
        "                                                y_col=\"Finding Labels\",\n",
        "                                                batch_size=1,\n",
        "                                                seed=42,\n",
        "                                                shuffle=False,\n",
        "                                                class_mode=\"categorical\",\n",
        "                                                classes=classes,\n",
        "                                                target_size=(1024,1024))"
      ],
      "execution_count": 3,
      "outputs": [
        {
          "output_type": "stream",
          "text": [
            "/usr/local/lib/python3.7/dist-packages/keras_preprocessing/image/dataframe_iterator.py:282: UserWarning: Found 97135 invalid image filename(s) in x_col=\"Image Index\". These filename(s) will be ignored.\n",
            "  .format(n_invalid, x_col)\n"
          ],
          "name": "stderr"
        },
        {
          "output_type": "stream",
          "text": [
            "Found 13097 validated image filenames belonging to 15 classes.\n",
            "Found 1577 validated image filenames belonging to 15 classes.\n"
          ],
          "name": "stdout"
        },
        {
          "output_type": "stream",
          "text": [
            "/usr/local/lib/python3.7/dist-packages/keras_preprocessing/image/dataframe_iterator.py:282: UserWarning: Found 109940 invalid image filename(s) in x_col=\"Image Index\". These filename(s) will be ignored.\n",
            "  .format(n_invalid, x_col)\n"
          ],
          "name": "stderr"
        }
      ]
    },
    {
      "cell_type": "markdown",
      "metadata": {
        "id": "W-2yDhxOuYPx"
      },
      "source": [
        "## Creating the Model\n",
        "Next, I am going to create the model that will train on the Chest X-Rays. I am going to start with a pre-trained network and see if that helps training go more smoothly. I am using categorical crossentropy as my loss function to allow for multiple labels being present. I also use sigmoid activation to accommodate multiple labels. "
      ]
    },
    {
      "cell_type": "code",
      "metadata": {
        "id": "igMp9o_tuZoD",
        "colab": {
          "base_uri": "https://localhost:8080/",
          "height": 232
        },
        "outputId": "fa384702-0783-44d5-c854-0edbe8b0968e"
      },
      "source": [
        "# load model without classifier layers\n",
        "model = DenseNet121(include_top=False, input_shape=(1024, 1024, 3), weights='imagenet', pooling='max')\n",
        "\n",
        "# add new classifier layers\n",
        "flat1 = Flatten()(model.layers[-1].output)\n",
        "class1 = Dense(1024, activation='sigmoid')(flat1)\n",
        "output = Dense(15, activation='sigmoid')(class1)\n",
        "\n",
        "# define new model\n",
        "model = Model(inputs=model.inputs, outputs=output)\n",
        "\n",
        "for layer in model.layers[:-2]:\n",
        "    layer.trainable=False\n",
        "    \n",
        "model.compile(loss=[tfa.losses.SigmoidFocalCrossEntropy(gamma=2.0)], metrics=[\"accuracy\"], optimizer='adam')\n",
        "history = model.fit(train_it, batch_size=128, epochs=10)"
      ],
      "execution_count": 16,
      "outputs": [
        {
          "output_type": "error",
          "ename": "NameError",
          "evalue": "ignored",
          "traceback": [
            "\u001b[0;31m---------------------------------------------------------------------------\u001b[0m",
            "\u001b[0;31mNameError\u001b[0m                                 Traceback (most recent call last)",
            "\u001b[0;32m<ipython-input-16-9b83abf0eef3>\u001b[0m in \u001b[0;36m<module>\u001b[0;34m()\u001b[0m\n\u001b[1;32m      5\u001b[0m \u001b[0mflat1\u001b[0m \u001b[0;34m=\u001b[0m \u001b[0mFlatten\u001b[0m\u001b[0;34m(\u001b[0m\u001b[0;34m)\u001b[0m\u001b[0;34m(\u001b[0m\u001b[0mmodel\u001b[0m\u001b[0;34m.\u001b[0m\u001b[0mlayers\u001b[0m\u001b[0;34m[\u001b[0m\u001b[0;34m-\u001b[0m\u001b[0;36m1\u001b[0m\u001b[0;34m]\u001b[0m\u001b[0;34m.\u001b[0m\u001b[0moutput\u001b[0m\u001b[0;34m)\u001b[0m\u001b[0;34m\u001b[0m\u001b[0;34m\u001b[0m\u001b[0m\n\u001b[1;32m      6\u001b[0m \u001b[0mclass1\u001b[0m \u001b[0;34m=\u001b[0m \u001b[0mDense\u001b[0m\u001b[0;34m(\u001b[0m\u001b[0;36m1024\u001b[0m\u001b[0;34m,\u001b[0m \u001b[0mactivation\u001b[0m\u001b[0;34m=\u001b[0m\u001b[0;34m'sigmoid'\u001b[0m\u001b[0;34m)\u001b[0m\u001b[0;34m(\u001b[0m\u001b[0mflat1\u001b[0m\u001b[0;34m)\u001b[0m\u001b[0;34m\u001b[0m\u001b[0;34m\u001b[0m\u001b[0m\n\u001b[0;32m----> 7\u001b[0;31m \u001b[0moutput\u001b[0m \u001b[0;34m=\u001b[0m \u001b[0mDense\u001b[0m\u001b[0;34m(\u001b[0m\u001b[0;36m15\u001b[0m\u001b[0;34m,\u001b[0m \u001b[0mactivation\u001b[0m\u001b[0;34m=\u001b[0m\u001b[0;34m'sigmoid'\u001b[0m\u001b[0;34m)\u001b[0m\u001b[0;34m(\u001b[0m\u001b[0mconv1\u001b[0m\u001b[0;34m)\u001b[0m\u001b[0;34m\u001b[0m\u001b[0;34m\u001b[0m\u001b[0m\n\u001b[0m\u001b[1;32m      8\u001b[0m \u001b[0;34m\u001b[0m\u001b[0m\n\u001b[1;32m      9\u001b[0m \u001b[0;31m# define new model\u001b[0m\u001b[0;34m\u001b[0m\u001b[0;34m\u001b[0m\u001b[0;34m\u001b[0m\u001b[0m\n",
            "\u001b[0;31mNameError\u001b[0m: name 'conv1' is not defined"
          ]
        }
      ]
    },
    {
      "cell_type": "code",
      "metadata": {
        "id": "jD1p-iNWEsD8",
        "colab": {
          "base_uri": "https://localhost:8080/",
          "height": 282
        },
        "outputId": "ecea7770-bf17-4dc8-be13-cc383d0ad6d2"
      },
      "source": [
        "plt.plot(history.history['loss'])"
      ],
      "execution_count": 5,
      "outputs": [
        {
          "output_type": "execute_result",
          "data": {
            "text/plain": [
              "[<matplotlib.lines.Line2D at 0x7fa5e68d6910>]"
            ]
          },
          "metadata": {
            "tags": []
          },
          "execution_count": 5
        },
        {
          "output_type": "display_data",
          "data": {
            "image/png": "[encoded data removed]",
            "text/plain": [
              "<Figure size 432x288 with 1 Axes>"
            ]
          },
          "metadata": {
            "tags": [],
            "needs_background": "light"
          }
        }
      ]
    },
    {
      "cell_type": "code",
      "metadata": {
        "colab": {
          "base_uri": "https://localhost:8080/"
        },
        "id": "ceVzSGLNBu7a",
        "outputId": "3972ce45-7c8b-4e23-ca2b-66d1fa8f034d"
      },
      "source": [
        "model.evaluate(test_it)"
      ],
      "execution_count": 6,
      "outputs": [
        {
          "output_type": "stream",
          "text": [
            "1577/1577 [==============================] - 1035s 655ms/step - loss: 0.3214 - accuracy: 0.5048\n"
          ],
          "name": "stdout"
        },
        {
          "output_type": "execute_result",
          "data": {
            "text/plain": [
              "[0.32140594720840454, 0.5047558546066284]"
            ]
          },
          "metadata": {
            "tags": []
          },
          "execution_count": 6
        }
      ]
    }
  ]
}