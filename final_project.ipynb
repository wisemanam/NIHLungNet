{
  "nbformat": 4,
  "nbformat_minor": 0,
  "metadata": {
    "accelerator": "GPU",
    "colab": {
      "name": "final_project.ipynb",
      "provenance": [],
      "collapsed_sections": [],
      "mount_file_id": "1-kkfDuwmS0_Lic6LbeZwhpSvhqVPlXFN",
      "authorship_tag": "ABX9TyPSt13gTA4lSqHWAqSZTO6O",
      "include_colab_link": true
    },
    "kernelspec": {
      "display_name": "Python 3",
      "name": "python3"
    },
    "language_info": {
      "name": "python"
    }
  },
  "cells": [
    {
      "cell_type": "markdown",
      "metadata": {
        "id": "view-in-github",
        "colab_type": "text"
      },
      "source": [
        "<a href=\"https://colab.research.google.com/github/wisemanam/NIHLungNet/blob/main/final_project.ipynb\" target=\"_parent\"><img src=\"https://colab.research.google.com/assets/colab-badge.svg\" alt=\"Open In Colab\"/></a>"
      ]
    },
    {
      "cell_type": "markdown",
      "metadata": {
        "id": "HjPIzBC2tniA"
      },
      "source": [
        "# Detecting Lung Disease Using CNNs"
      ]
    },
    {
      "cell_type": "code",
      "metadata": {
        "colab": {
          "base_uri": "https://localhost:8080/"
        },
        "id": "YIKhOrDUtsSO",
        "outputId": "3a0f2df1-8501-4c26-b84e-bc3130e35400"
      },
      "source": [
        "%matplotlib inline\n",
        "\n",
        "import os\n",
        "import numpy as np\n",
        "import tensorflow as tf\n",
        "!pip install tensorflow_addons\n",
        "import tensorflow_addons as tfa\n",
        "import pandas as pd\n",
        "import keras\n",
        "from keras.applications import DenseNet121\n",
        "from keras.applications.densenet import preprocess_input\n",
        "from keras.models import Model\n",
        "from keras.layers import Flatten\n",
        "from keras.layers import Dense\n",
        "from keras.losses import CategoricalCrossentropy\n",
        "import matplotlib.pyplot as plt\n",
        "from keras.preprocessing.image import ImageDataGenerator\n",
        "from keras.layers import Dropout"
      ],
      "execution_count": 2,
      "outputs": [
        {
          "output_type": "stream",
          "text": [
            "Collecting tensorflow_addons\n",
            "\u001b[?25l  Downloading https://files.pythonhosted.org/packages/74/e3/56d2fe76f0bb7c88ed9b2a6a557e25e83e252aec08f13de34369cd850a0b/tensorflow_addons-0.12.1-cp37-cp37m-manylinux2010_x86_64.whl (703kB)\n",
            "\r\u001b[K     |▌                               | 10kB 23.1MB/s eta 0:00:01\r\u001b[K     |█                               | 20kB 30.5MB/s eta 0:00:01\r\u001b[K     |█▍                              | 30kB 21.6MB/s eta 0:00:01\r\u001b[K     |█▉                              | 40kB 17.3MB/s eta 0:00:01\r\u001b[K     |██▎                             | 51kB 15.4MB/s eta 0:00:01\r\u001b[K     |██▉                             | 61kB 13.8MB/s eta 0:00:01\r\u001b[K     |███▎                            | 71kB 15.2MB/s eta 0:00:01\r\u001b[K     |███▊                            | 81kB 15.5MB/s eta 0:00:01\r\u001b[K     |████▏                           | 92kB 14.2MB/s eta 0:00:01\r\u001b[K     |████▋                           | 102kB 12.9MB/s eta 0:00:01\r\u001b[K     |█████▏                          | 112kB 12.9MB/s eta 0:00:01\r\u001b[K     |█████▋                          | 122kB 12.9MB/s eta 0:00:01\r\u001b[K     |██████                          | 133kB 12.9MB/s eta 0:00:01\r\u001b[K     |██████▌                         | 143kB 12.9MB/s eta 0:00:01\r\u001b[K     |███████                         | 153kB 12.9MB/s eta 0:00:01\r\u001b[K     |███████▌                        | 163kB 12.9MB/s eta 0:00:01\r\u001b[K     |████████                        | 174kB 12.9MB/s eta 0:00:01\r\u001b[K     |████████▍                       | 184kB 12.9MB/s eta 0:00:01\r\u001b[K     |████████▉                       | 194kB 12.9MB/s eta 0:00:01\r\u001b[K     |█████████▎                      | 204kB 12.9MB/s eta 0:00:01\r\u001b[K     |█████████▉                      | 215kB 12.9MB/s eta 0:00:01\r\u001b[K     |██████████▎                     | 225kB 12.9MB/s eta 0:00:01\r\u001b[K     |██████████▊                     | 235kB 12.9MB/s eta 0:00:01\r\u001b[K     |███████████▏                    | 245kB 12.9MB/s eta 0:00:01\r\u001b[K     |███████████▋                    | 256kB 12.9MB/s eta 0:00:01\r\u001b[K     |████████████▏                   | 266kB 12.9MB/s eta 0:00:01\r\u001b[K     |████████████▋                   | 276kB 12.9MB/s eta 0:00:01\r\u001b[K     |█████████████                   | 286kB 12.9MB/s eta 0:00:01\r\u001b[K     |█████████████▌                  | 296kB 12.9MB/s eta 0:00:01\r\u001b[K     |██████████████                  | 307kB 12.9MB/s eta 0:00:01\r\u001b[K     |██████████████▍                 | 317kB 12.9MB/s eta 0:00:01\r\u001b[K     |███████████████                 | 327kB 12.9MB/s eta 0:00:01\r\u001b[K     |███████████████▍                | 337kB 12.9MB/s eta 0:00:01\r\u001b[K     |███████████████▉                | 348kB 12.9MB/s eta 0:00:01\r\u001b[K     |████████████████▎               | 358kB 12.9MB/s eta 0:00:01\r\u001b[K     |████████████████▊               | 368kB 12.9MB/s eta 0:00:01\r\u001b[K     |█████████████████▎              | 378kB 12.9MB/s eta 0:00:01\r\u001b[K     |█████████████████▊              | 389kB 12.9MB/s eta 0:00:01\r\u001b[K     |██████████████████▏             | 399kB 12.9MB/s eta 0:00:01\r\u001b[K     |██████████████████▋             | 409kB 12.9MB/s eta 0:00:01\r\u001b[K     |███████████████████             | 419kB 12.9MB/s eta 0:00:01\r\u001b[K     |███████████████████▋            | 430kB 12.9MB/s eta 0:00:01\r\u001b[K     |████████████████████            | 440kB 12.9MB/s eta 0:00:01\r\u001b[K     |████████████████████▌           | 450kB 12.9MB/s eta 0:00:01\r\u001b[K     |█████████████████████           | 460kB 12.9MB/s eta 0:00:01\r\u001b[K     |█████████████████████▍          | 471kB 12.9MB/s eta 0:00:01\r\u001b[K     |██████████████████████          | 481kB 12.9MB/s eta 0:00:01\r\u001b[K     |██████████████████████▍         | 491kB 12.9MB/s eta 0:00:01\r\u001b[K     |██████████████████████▉         | 501kB 12.9MB/s eta 0:00:01\r\u001b[K     |███████████████████████▎        | 512kB 12.9MB/s eta 0:00:01\r\u001b[K     |███████████████████████▊        | 522kB 12.9MB/s eta 0:00:01\r\u001b[K     |████████████████████████▎       | 532kB 12.9MB/s eta 0:00:01\r\u001b[K     |████████████████████████▊       | 542kB 12.9MB/s eta 0:00:01\r\u001b[K     |█████████████████████████▏      | 552kB 12.9MB/s eta 0:00:01\r\u001b[K     |█████████████████████████▋      | 563kB 12.9MB/s eta 0:00:01\r\u001b[K     |██████████████████████████      | 573kB 12.9MB/s eta 0:00:01\r\u001b[K     |██████████████████████████▋     | 583kB 12.9MB/s eta 0:00:01\r\u001b[K     |███████████████████████████     | 593kB 12.9MB/s eta 0:00:01\r\u001b[K     |███████████████████████████▌    | 604kB 12.9MB/s eta 0:00:01\r\u001b[K     |████████████████████████████    | 614kB 12.9MB/s eta 0:00:01\r\u001b[K     |████████████████████████████▍   | 624kB 12.9MB/s eta 0:00:01\r\u001b[K     |████████████████████████████▉   | 634kB 12.9MB/s eta 0:00:01\r\u001b[K     |█████████████████████████████▍  | 645kB 12.9MB/s eta 0:00:01\r\u001b[K     |█████████████████████████████▉  | 655kB 12.9MB/s eta 0:00:01\r\u001b[K     |██████████████████████████████▎ | 665kB 12.9MB/s eta 0:00:01\r\u001b[K     |██████████████████████████████▊ | 675kB 12.9MB/s eta 0:00:01\r\u001b[K     |███████████████████████████████▏| 686kB 12.9MB/s eta 0:00:01\r\u001b[K     |███████████████████████████████▊| 696kB 12.9MB/s eta 0:00:01\r\u001b[K     |████████████████████████████████| 706kB 12.9MB/s \n",
            "\u001b[?25hRequirement already satisfied: typeguard>=2.7 in /usr/local/lib/python3.7/dist-packages (from tensorflow_addons) (2.7.1)\n",
            "Installing collected packages: tensorflow-addons\n",
            "Successfully installed tensorflow-addons-0.12.1\n"
          ],
          "name": "stdout"
        }
      ]
    },
    {
      "cell_type": "markdown",
      "metadata": {
        "id": "swo4fAIztwPt"
      },
      "source": [
        "## Loading in the Data"
      ]
    },
    {
      "cell_type": "code",
      "metadata": {
        "id": "wjNPbqwit0v5"
      },
      "source": [
        "data_path = '/content/drive/MyDrive/data/xray_data/'\n",
        "train_path = data_path + 'train/'\n",
        "test_path = data_path + 'test/'"
      ],
      "execution_count": 3,
      "outputs": []
    },
    {
      "cell_type": "code",
      "metadata": {
        "colab": {
          "base_uri": "https://localhost:8080/"
        },
        "id": "bog1YqrBuLpd",
        "outputId": "3884605a-cfe3-4346-ce62-4ca1bc558802"
      },
      "source": [
        "df = pd.read_csv(data_path + \"Data_Entry_2017.csv\")\n",
        "df[\"Finding Labels\"]=df[\"Finding Labels\"].apply(lambda x:x.split(\",\"))\n",
        "classes = [\"No Finding\", \n",
        "           \"Atelectasis\", \n",
        "           \"Consolidation\", \n",
        "           \"Infiltration\",\n",
        "           \"Pneumothorax\",\n",
        "           \"Edema\",\n",
        "           \"Emphysema\",\n",
        "           \"Fibrosis\",\n",
        "           \"Effusion\",\n",
        "           \"Pneumonia\",\n",
        "           \"Pleural_Thickening\",\n",
        "           \"Cardiomegaly\",\n",
        "           \"Mass\",\n",
        "           \"Nodule\",\n",
        "           \"Hernia\"]\n",
        "\n",
        "datagen=ImageDataGenerator(rescale=1./255.)\n",
        "test_datagen=ImageDataGenerator(rescale=1./255.)\n",
        "\n",
        "# using 15000/86524 training images\n",
        "train_it=datagen.flow_from_dataframe(dataframe=df, \n",
        "                                            directory=train_path, \n",
        "                                            x_col=\"Image Index\", \n",
        "                                            y_col=\"Finding Labels\", \n",
        "                                            batch_size=32, \n",
        "                                            seed=42, \n",
        "                                            shuffle=True, \n",
        "                                            class_mode=\"categorical\",\n",
        "                                            classes=classes,\n",
        "                                            target_size=(1024,1024))\n",
        "\n",
        "# using 2000/~20000 testing images\n",
        "test_it=test_datagen.flow_from_dataframe(dataframe=df,\n",
        "                                                directory=test_path,\n",
        "                                                x_col=\"Image Index\",\n",
        "                                                y_col=\"Finding Labels\",\n",
        "                                                batch_size=1,\n",
        "                                                seed=42,\n",
        "                                                shuffle=False,\n",
        "                                                class_mode=\"categorical\",\n",
        "                                                classes=classes,\n",
        "                                                target_size=(1024,1024))"
      ],
      "execution_count": 4,
      "outputs": [
        {
          "output_type": "stream",
          "text": [
            "/usr/local/lib/python3.7/dist-packages/keras_preprocessing/image/dataframe_iterator.py:282: UserWarning: Found 89061 invalid image filename(s) in x_col=\"Image Index\". These filename(s) will be ignored.\n",
            "  .format(n_invalid, x_col)\n"
          ],
          "name": "stderr"
        },
        {
          "output_type": "stream",
          "text": [
            "Found 20075 validated image filenames belonging to 15 classes.\n",
            "Found 2340 validated image filenames belonging to 15 classes.\n"
          ],
          "name": "stdout"
        },
        {
          "output_type": "stream",
          "text": [
            "/usr/local/lib/python3.7/dist-packages/keras_preprocessing/image/dataframe_iterator.py:282: UserWarning: Found 108910 invalid image filename(s) in x_col=\"Image Index\". These filename(s) will be ignored.\n",
            "  .format(n_invalid, x_col)\n"
          ],
          "name": "stderr"
        }
      ]
    },
    {
      "cell_type": "markdown",
      "metadata": {
        "id": "W-2yDhxOuYPx"
      },
      "source": [
        "## Creating the Model\n",
        "Next, I am going to create the model that will train on the Chest X-Rays. I am going to start with a pre-trained network and see if that helps training go more smoothly. I am using categorical crossentropy as my loss function to allow for multiple labels being present. I also use sigmoid activation to accommodate multiple labels. "
      ]
    },
    {
      "cell_type": "code",
      "metadata": {
        "colab": {
          "base_uri": "https://localhost:8080/"
        },
        "id": "igMp9o_tuZoD",
        "outputId": "14e00fd8-b285-4726-bb18-6bb03ac0f027"
      },
      "source": [
        "# load model without classifier layers\n",
        "model = DenseNet121(include_top=False, input_shape=(1024, 1024, 3), weights='imagenet', pooling='max')\n",
        "\n",
        "# add new classifier layers\n",
        "flat1 = Flatten()(model.layers[-1].output)\n",
        "class1 = Dense(1024, activation='sigmoid')(flat1)\n",
        "dropout = Dropout(0.2)\n",
        "output = Dense(15, activation='sigmoid')(class1)\n",
        "\n",
        "# define new model\n",
        "model = Model(inputs=model.inputs, outputs=output)\n",
        "\n",
        "for layer in model.layers[:-4]:\n",
        "    layer.trainable=False\n",
        "\n",
        "optimizer = keras.optimizers.Adam(lr=0.00001)\n",
        "model.compile(loss=[tfa.losses.SigmoidFocalCrossEntropy(gamma=4.0)], metrics=[\"accuracy\"], optimizer=optimizer)\n",
        "history = model.fit(train_it, batch_size=256, epochs=20, validation_data=test_it)\n",
        "\n",
        "# optimizer = keras.optimizers.Adam(lr=0.001)\n",
        "# model.compile(loss=[tfa.losses.SigmoidFocalCrossEntropy(gamma=4.0)], metrics=[\"accuracy\"], optimizer=optimizer)\n",
        "# history2 = model.fit(train_it, batch_size=256, epochs=20, validation_data=test_it)\n",
        "\n",
        "# optimizer = keras.optimizers.Adam(lr=0.0005)\n",
        "# model.compile(loss=[tfa.losses.SigmoidFocalCrossEntropy(gamma=4.0)], metrics=[\"accuracy\"], optimizer=optimizer)\n",
        "# history3 = model.fit(train_it, batch_size=256, epochs=20, validation_data=test_it)\n"
      ],
      "execution_count": 5,
      "outputs": [
        {
          "output_type": "stream",
          "text": [
            "Downloading data from https://storage.googleapis.com/tensorflow/keras-applications/densenet/densenet121_weights_tf_dim_ordering_tf_kernels_notop.h5\n",
            "29089792/29084464 [==============================] - 0s 0us/step\n",
            "Epoch 1/20\n",
            "628/628 [==============================] - 12313s 20s/step - loss: 0.2021 - accuracy: 0.5328 - val_loss: 0.0889 - val_accuracy: 0.5026\n",
            "Epoch 2/20\n",
            "628/628 [==============================] - 845s 1s/step - loss: 0.0607 - accuracy: 0.7090 - val_loss: 0.0852 - val_accuracy: 0.4979\n",
            "Epoch 3/20\n",
            "628/628 [==============================] - 836s 1s/step - loss: 0.0584 - accuracy: 0.7136 - val_loss: 0.0842 - val_accuracy: 0.5030\n",
            "Epoch 4/20\n",
            "628/628 [==============================] - 831s 1s/step - loss: 0.0572 - accuracy: 0.7093 - val_loss: 0.0822 - val_accuracy: 0.5043\n",
            "Epoch 5/20\n",
            "628/628 [==============================] - 827s 1s/step - loss: 0.0556 - accuracy: 0.7145 - val_loss: 0.0827 - val_accuracy: 0.5073\n",
            "Epoch 6/20\n",
            "628/628 [==============================] - 825s 1s/step - loss: 0.0545 - accuracy: 0.7195 - val_loss: 0.0794 - val_accuracy: 0.5017\n",
            "Epoch 7/20\n",
            "628/628 [==============================] - 841s 1s/step - loss: 0.0535 - accuracy: 0.7192 - val_loss: 0.0805 - val_accuracy: 0.5056\n",
            "Epoch 8/20\n",
            "628/628 [==============================] - 828s 1s/step - loss: 0.0537 - accuracy: 0.7127 - val_loss: 0.0795 - val_accuracy: 0.5017\n",
            "Epoch 9/20\n",
            "628/628 [==============================] - 830s 1s/step - loss: 0.0535 - accuracy: 0.7145 - val_loss: 0.0798 - val_accuracy: 0.5026\n",
            "Epoch 10/20\n",
            "628/628 [==============================] - 853s 1s/step - loss: 0.0527 - accuracy: 0.7157 - val_loss: 0.0802 - val_accuracy: 0.5047\n",
            "Epoch 11/20\n",
            "628/628 [==============================] - 834s 1s/step - loss: 0.0526 - accuracy: 0.7128 - val_loss: 0.0784 - val_accuracy: 0.5051\n",
            "Epoch 12/20\n",
            "628/628 [==============================] - 830s 1s/step - loss: 0.0517 - accuracy: 0.7197 - val_loss: 0.0787 - val_accuracy: 0.5047\n",
            "Epoch 13/20\n",
            "628/628 [==============================] - 826s 1s/step - loss: 0.0522 - accuracy: 0.7162 - val_loss: 0.0794 - val_accuracy: 0.5060\n",
            "Epoch 14/20\n",
            "628/628 [==============================] - 818s 1s/step - loss: 0.0515 - accuracy: 0.7183 - val_loss: 0.0802 - val_accuracy: 0.5056\n",
            "Epoch 15/20\n",
            "628/628 [==============================] - 814s 1s/step - loss: 0.0511 - accuracy: 0.7178 - val_loss: 0.0791 - val_accuracy: 0.5051\n",
            "Epoch 16/20\n",
            "628/628 [==============================] - 821s 1s/step - loss: 0.0516 - accuracy: 0.7127 - val_loss: 0.0796 - val_accuracy: 0.5068\n",
            "Epoch 17/20\n",
            "628/628 [==============================] - 824s 1s/step - loss: 0.0511 - accuracy: 0.7164 - val_loss: 0.0796 - val_accuracy: 0.5064\n",
            "Epoch 18/20\n",
            "628/628 [==============================] - 825s 1s/step - loss: 0.0510 - accuracy: 0.7172 - val_loss: 0.0801 - val_accuracy: 0.5056\n",
            "Epoch 19/20\n",
            "628/628 [==============================] - 833s 1s/step - loss: 0.0503 - accuracy: 0.7185 - val_loss: 0.0796 - val_accuracy: 0.5060\n",
            "Epoch 20/20\n",
            "628/628 [==============================] - 832s 1s/step - loss: 0.0507 - accuracy: 0.7142 - val_loss: 0.0779 - val_accuracy: 0.5030\n"
          ],
          "name": "stdout"
        }
      ]
    },
    {
      "cell_type": "code",
      "metadata": {
        "colab": {
          "base_uri": "https://localhost:8080/",
          "height": 282
        },
        "id": "jD1p-iNWEsD8",
        "outputId": "6c2a4f99-97ad-4702-9827-2bfbc744b102"
      },
      "source": [
        "plt.plot( history.epoch,history.history['loss'], label = 'loss' )\n",
        "plt.plot( history.epoch,history.history['val_loss'], label = 'val_loss' )\n",
        "plt.legend()\n",
        "\n",
        "plt.plot( history.epoch,history.history['accuracy'], label = 'accuracy' )\n",
        "plt.plot( history.epoch,history.history['val_accuracy'], label = 'val_accuracy' )\n",
        "plt.legend()"
      ],
      "execution_count": 6,
      "outputs": [
        {
          "output_type": "execute_result",
          "data": {
            "text/plain": [
              "<matplotlib.legend.Legend at 0x7f06877abad0>"
            ]
          },
          "metadata": {
            "tags": []
          },
          "execution_count": 6
        },
        {
          "output_type": "display_data",
          "data": {
            "image/png": "[encoded data removed]",
            "text/plain": [
              "<Figure size 432x288 with 1 Axes>"
            ]
          },
          "metadata": {
            "tags": [],
            "needs_background": "light"
          }
        }
      ]
    },
    {
      "cell_type": "code",
      "metadata": {
        "id": "ceVzSGLNBu7a",
        "colab": {
          "base_uri": "https://localhost:8080/"
        },
        "outputId": "a258e0a3-be80-4783-ae27-80a1d3d4b3af"
      },
      "source": [
        "model.evaluate(test_it)"
      ],
      "execution_count": 7,
      "outputs": [
        {
          "output_type": "stream",
          "text": [
            "2340/2340 [==============================] - 101s 43ms/step - loss: 0.0779 - accuracy: 0.5030\n"
          ],
          "name": "stdout"
        },
        {
          "output_type": "execute_result",
          "data": {
            "text/plain": [
              "[0.07793980836868286, 0.5029914379119873]"
            ]
          },
          "metadata": {
            "tags": []
          },
          "execution_count": 7
        }
      ]
    }
  ]
}