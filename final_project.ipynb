{
  "nbformat": 4,
  "nbformat_minor": 0,
  "metadata": {
    "accelerator": "GPU",
    "colab": {
      "name": "final_project.ipynb",
      "provenance": [],
      "collapsed_sections": [],
      "mount_file_id": "1-kkfDuwmS0_Lic6LbeZwhpSvhqVPlXFN",
      "authorship_tag": "ABX9TyPaXtpKs+kpy8i/sB3VYec0",
      "include_colab_link": true
    },
    "kernelspec": {
      "display_name": "Python 3",
      "name": "python3"
    },
    "language_info": {
      "name": "python"
    }
  },
  "cells": [
    {
      "cell_type": "markdown",
      "metadata": {
        "id": "view-in-github",
        "colab_type": "text"
      },
      "source": [
        "<a href=\"https://colab.research.google.com/github/wisemanam/NIHLungNet/blob/main/final_project.ipynb\" target=\"_parent\"><img src=\"https://colab.research.google.com/assets/colab-badge.svg\" alt=\"Open In Colab\"/></a>"
      ]
    },
    {
      "cell_type": "markdown",
      "metadata": {
        "id": "HjPIzBC2tniA"
      },
      "source": [
        "# Detecting Lung Disease Using CNNs"
      ]
    },
    {
      "cell_type": "code",
      "metadata": {
        "colab": {
          "base_uri": "https://localhost:8080/"
        },
        "id": "YIKhOrDUtsSO",
        "outputId": "e684fa3c-af92-437e-e335-864dc1940e6e"
      },
      "source": [
        "%matplotlib inline\n",
        "\n",
        "import os\n",
        "import numpy as np\n",
        "import tensorflow as tf\n",
        "!pip install tensorflow_addons\n",
        "import tensorflow_addons as tfa\n",
        "import pandas as pd\n",
        "import keras\n",
        "from keras.applications import DenseNet121\n",
        "from keras.applications.densenet import preprocess_input\n",
        "from keras.models import Model\n",
        "from keras.layers import Flatten\n",
        "from keras.layers import Dense\n",
        "from keras.losses import CategoricalCrossentropy\n",
        "import matplotlib.pyplot as plt\n",
        "from keras.preprocessing.image import ImageDataGenerator\n",
        "from keras.metrics import categorical_accuracy"
      ],
      "execution_count": 3,
      "outputs": [
        {
          "output_type": "stream",
          "text": [
            "Requirement already satisfied: tensorflow_addons in /usr/local/lib/python3.7/dist-packages (0.12.1)\n",
            "Requirement already satisfied: typeguard>=2.7 in /usr/local/lib/python3.7/dist-packages (from tensorflow_addons) (2.7.1)\n"
          ],
          "name": "stdout"
        }
      ]
    },
    {
      "cell_type": "markdown",
      "metadata": {
        "id": "swo4fAIztwPt"
      },
      "source": [
        "## Loading in the Data"
      ]
    },
    {
      "cell_type": "code",
      "metadata": {
        "id": "wjNPbqwit0v5"
      },
      "source": [
        "data_path = '/content/drive/MyDrive/data/xray_data/'\n",
        "train_path = data_path + 'train/'\n",
        "test_path = data_path + 'test/'"
      ],
      "execution_count": 2,
      "outputs": []
    },
    {
      "cell_type": "code",
      "metadata": {
        "id": "bog1YqrBuLpd",
        "colab": {
          "base_uri": "https://localhost:8080/"
        },
        "outputId": "a2d10040-582f-4636-a113-2e203a10f5d5"
      },
      "source": [
        "df = pd.read_csv(data_path + \"Data_Entry_2017.csv\")\n",
        "df[\"Finding Labels\"]=df[\"Finding Labels\"].apply(lambda x:x.split(\"|\"))\n",
        "classes = [\"No Finding\", \n",
        "           \"Atelectasis\", \n",
        "           \"Consolidation\", \n",
        "           \"Infiltration\",\n",
        "           \"Pneumothorax\",\n",
        "           \"Edema\",\n",
        "           \"Emphysema\",\n",
        "           \"Fibrosis\",\n",
        "           \"Effusion\",\n",
        "           \"Pneumonia\",\n",
        "           \"Pleural_Thickening\",\n",
        "           \"Cardiomegaly\",\n",
        "           \"Mass\",\n",
        "           \"Nodule\",\n",
        "           \"Hernia\"]\n",
        "\n",
        "datagen=ImageDataGenerator(rescale=1./255.)\n",
        "test_datagen=ImageDataGenerator(rescale=1./255.)\n",
        "\n",
        "# using 15000/86524 training images\n",
        "train_it=datagen.flow_from_dataframe(dataframe=df, \n",
        "                                            directory=train_path, \n",
        "                                            x_col=\"Image Index\", \n",
        "                                            y_col=\"Finding Labels\", \n",
        "                                            batch_size=32, \n",
        "                                            seed=42, \n",
        "                                            shuffle=True, \n",
        "                                            class_mode=\"categorical\",\n",
        "                                            classes=classes,\n",
        "                                            target_size=(1024,1024))\n",
        "\n",
        "# using 2000/~20000 testing images\n",
        "test_it=test_datagen.flow_from_dataframe(dataframe=df,\n",
        "                                                directory=test_path,\n",
        "                                                x_col=\"Image Index\",\n",
        "                                                y_col=\"Finding Labels\",\n",
        "                                                batch_size=214,\n",
        "                                                seed=42,\n",
        "                                                shuffle=False,\n",
        "                                                class_mode=\"categorical\",\n",
        "                                                classes=classes,\n",
        "                                                target_size=(1024,1024))"
      ],
      "execution_count": 12,
      "outputs": [
        {
          "output_type": "stream",
          "text": [
            "/usr/local/lib/python3.7/dist-packages/keras_preprocessing/image/dataframe_iterator.py:282: UserWarning: Found 89060 invalid image filename(s) in x_col=\"Image Index\". These filename(s) will be ignored.\n",
            "  .format(n_invalid, x_col)\n"
          ],
          "name": "stderr"
        },
        {
          "output_type": "stream",
          "text": [
            "Found 23060 validated image filenames belonging to 15 classes.\n",
            "Found 3210 validated image filenames belonging to 15 classes.\n"
          ],
          "name": "stdout"
        },
        {
          "output_type": "stream",
          "text": [
            "/usr/local/lib/python3.7/dist-packages/keras_preprocessing/image/dataframe_iterator.py:282: UserWarning: Found 108910 invalid image filename(s) in x_col=\"Image Index\". These filename(s) will be ignored.\n",
            "  .format(n_invalid, x_col)\n"
          ],
          "name": "stderr"
        }
      ]
    },
    {
      "cell_type": "markdown",
      "metadata": {
        "id": "W-2yDhxOuYPx"
      },
      "source": [
        "## Creating the Model\n",
        "Next, I am going to create the model that will train on the Chest X-Rays. I am going to start with a pre-trained network and see if that helps training go more smoothly. I am using categorical crossentropy as my loss function to allow for multiple labels being present. I also use sigmoid activation to accommodate multiple labels. "
      ]
    },
    {
      "cell_type": "code",
      "metadata": {
        "id": "igMp9o_tuZoD",
        "colab": {
          "base_uri": "https://localhost:8080/"
        },
        "outputId": "44b1b9ad-7a01-466c-edf2-fd94c201ab6e"
      },
      "source": [
        "from tensorflow_addons.metrics import HammingLoss\n",
        "# load model without classifier layers\n",
        "model = DenseNet121(include_top=False, input_shape=(1024, 1024, 3), weights='imagenet', pooling='max')\n",
        "\n",
        "# add new classifier layers\n",
        "flat1 = Flatten()(model.layers[-1].output)\n",
        "class1 = Dense(1024, activation='sigmoid')(flat1)\n",
        "output = Dense(15, activation='sigmoid')(class1)\n",
        "\n",
        "# define new model\n",
        "model = Model(inputs=model.inputs, outputs=output)\n",
        "\n",
        "for layer in model.layers[:-4]:\n",
        "    layer.trainable=False\n",
        "\n",
        "optimizer = keras.optimizers.Adam(lr=0.00001)\n",
        "model.compile(loss=[tfa.losses.SigmoidFocalCrossEntropy(gamma=4.0)], metrics=[HammingLoss(mode='multiclass', threshold=0.7)], optimizer=optimizer)\n",
        "history1 = model.fit(train_it, batch_size=256, epochs=10, validation_data=test_it)\n"
      ],
      "execution_count": 4,
      "outputs": [
        {
          "output_type": "stream",
          "text": [
            "Downloading data from https://storage.googleapis.com/tensorflow/keras-applications/densenet/densenet121_weights_tf_dim_ordering_tf_kernels_notop.h5\n",
            "29089792/29084464 [==============================] - 0s 0us/step\n",
            "Epoch 1/10\n",
            "721/721 [==============================] - 10625s 15s/step - loss: 0.1401 - hamming_loss: 0.9985 - val_loss: 0.1266 - val_hamming_loss: 1.0000\n",
            "Epoch 2/10\n",
            "721/721 [==============================] - 997s 1s/step - loss: 0.0837 - hamming_loss: 1.0000 - val_loss: 0.1238 - val_hamming_loss: 1.0000\n",
            "Epoch 3/10\n",
            "721/721 [==============================] - 988s 1s/step - loss: 0.0798 - hamming_loss: 1.0000 - val_loss: 0.1213 - val_hamming_loss: 1.0000\n",
            "Epoch 4/10\n",
            "721/721 [==============================] - 984s 1s/step - loss: 0.0775 - hamming_loss: 1.0000 - val_loss: 0.1178 - val_hamming_loss: 1.0000\n",
            "Epoch 5/10\n",
            "721/721 [==============================] - 986s 1s/step - loss: 0.0765 - hamming_loss: 1.0000 - val_loss: 0.1177 - val_hamming_loss: 1.0000\n",
            "Epoch 6/10\n",
            "721/721 [==============================] - 981s 1s/step - loss: 0.0765 - hamming_loss: 1.0000 - val_loss: 0.1184 - val_hamming_loss: 1.0000\n",
            "Epoch 7/10\n",
            "721/721 [==============================] - 973s 1s/step - loss: 0.0755 - hamming_loss: 1.0000 - val_loss: 0.1161 - val_hamming_loss: 1.0000\n",
            "Epoch 8/10\n",
            "721/721 [==============================] - 980s 1s/step - loss: 0.0741 - hamming_loss: 1.0000 - val_loss: 0.1161 - val_hamming_loss: 1.0000\n",
            "Epoch 9/10\n",
            "721/721 [==============================] - 980s 1s/step - loss: 0.0752 - hamming_loss: 1.0000 - val_loss: 0.1164 - val_hamming_loss: 1.0000\n",
            "Epoch 10/10\n",
            "721/721 [==============================] - 985s 1s/step - loss: 0.0743 - hamming_loss: 1.0000 - val_loss: 0.1155 - val_hamming_loss: 1.0000\n"
          ],
          "name": "stdout"
        }
      ]
    },
    {
      "cell_type": "code",
      "metadata": {
        "id": "jD1p-iNWEsD8",
        "colab": {
          "base_uri": "https://localhost:8080/",
          "height": 463
        },
        "outputId": "c0444d40-e21f-4bdc-f1ad-5d37c315a5fe"
      },
      "source": [
        "plt.plot( history1.epoch,history1.history['loss'], label = 'loss' )\n",
        "plt.plot( history1.epoch,history1.history['val_loss'], label = 'val_loss' )\n",
        "plt.legend()\n",
        "\n",
        "plt.plot( history1.epoch,history1.history['hamming_loss'], label = 'hamming_loss' )\n",
        "plt.plot( history1.epoch,history1.history['val_hamming_loss'], label = 'val_hamming_loss' )\n",
        "plt.legend()"
      ],
      "execution_count": 6,
      "outputs": [
        {
          "output_type": "error",
          "ename": "KeyError",
          "evalue": "ignored",
          "traceback": [
            "\u001b[0;31m---------------------------------------------------------------------------\u001b[0m",
            "\u001b[0;31mKeyError\u001b[0m                                  Traceback (most recent call last)",
            "\u001b[0;32m<ipython-input-6-e41806070a8b>\u001b[0m in \u001b[0;36m<module>\u001b[0;34m()\u001b[0m\n\u001b[1;32m      4\u001b[0m \u001b[0;34m\u001b[0m\u001b[0m\n\u001b[1;32m      5\u001b[0m \u001b[0mplt\u001b[0m\u001b[0;34m.\u001b[0m\u001b[0mplot\u001b[0m\u001b[0;34m(\u001b[0m \u001b[0mhistory1\u001b[0m\u001b[0;34m.\u001b[0m\u001b[0mepoch\u001b[0m\u001b[0;34m,\u001b[0m\u001b[0mhistory1\u001b[0m\u001b[0;34m.\u001b[0m\u001b[0mhistory\u001b[0m\u001b[0;34m[\u001b[0m\u001b[0;34m'hamming_loss'\u001b[0m\u001b[0;34m]\u001b[0m\u001b[0;34m,\u001b[0m \u001b[0mlabel\u001b[0m \u001b[0;34m=\u001b[0m \u001b[0;34m'hamming_loss'\u001b[0m \u001b[0;34m)\u001b[0m\u001b[0;34m\u001b[0m\u001b[0;34m\u001b[0m\u001b[0m\n\u001b[0;32m----> 6\u001b[0;31m \u001b[0mplt\u001b[0m\u001b[0;34m.\u001b[0m\u001b[0mplot\u001b[0m\u001b[0;34m(\u001b[0m \u001b[0mhistory1\u001b[0m\u001b[0;34m.\u001b[0m\u001b[0mepoch\u001b[0m\u001b[0;34m,\u001b[0m\u001b[0mhistory1\u001b[0m\u001b[0;34m.\u001b[0m\u001b[0mhistory\u001b[0m\u001b[0;34m[\u001b[0m\u001b[0;34m'val_accuracy'\u001b[0m\u001b[0;34m]\u001b[0m\u001b[0;34m,\u001b[0m \u001b[0mlabel\u001b[0m \u001b[0;34m=\u001b[0m \u001b[0;34m'val_accuracy'\u001b[0m \u001b[0;34m)\u001b[0m\u001b[0;34m\u001b[0m\u001b[0;34m\u001b[0m\u001b[0m\n\u001b[0m\u001b[1;32m      7\u001b[0m \u001b[0mplt\u001b[0m\u001b[0;34m.\u001b[0m\u001b[0mlegend\u001b[0m\u001b[0;34m(\u001b[0m\u001b[0;34m)\u001b[0m\u001b[0;34m\u001b[0m\u001b[0;34m\u001b[0m\u001b[0m\n",
            "\u001b[0;31mKeyError\u001b[0m: 'val_accuracy'"
          ]
        },
        {
          "output_type": "display_data",
          "data": {
            "image/png": "[encoded data removed]",
            "text/plain": [
              "<Figure size 432x288 with 1 Axes>"
            ]
          },
          "metadata": {
            "tags": [],
            "needs_background": "light"
          }
        }
      ]
    },
    {
      "cell_type": "code",
      "metadata": {
        "id": "ceVzSGLNBu7a",
        "colab": {
          "base_uri": "https://localhost:8080/"
        },
        "outputId": "b44e7c88-0e7a-4716-f6ea-4fa2f0e9f9f6"
      },
      "source": [
        "model.evaluate(test_it)"
      ],
      "execution_count": 7,
      "outputs": [
        {
          "output_type": "stream",
          "text": [
            "3210/3210 [==============================] - 140s 44ms/step - loss: 0.1155 - hamming_loss: 1.0000\n"
          ],
          "name": "stdout"
        },
        {
          "output_type": "execute_result",
          "data": {
            "text/plain": [
              "[0.11547640711069107, 1.0]"
            ]
          },
          "metadata": {
            "tags": []
          },
          "execution_count": 7
        }
      ]
    },
    {
      "cell_type": "code",
      "metadata": {
        "id": "7bZp4NvYkRKr"
      },
      "source": [
        "def get_batch_scores(labels, pred_labels):\n",
        "  batch_size = len(labels)\n",
        "  num_classes = len(labels[0])\n",
        "\n",
        "  accuracy_sum = 0\n",
        "  precision_sum = 0\n",
        "  recall_sum = 0\n",
        "\n",
        "  accuracy_by_class = []\n",
        "  precision_by_class = []\n",
        "  recall_by_class = []\n",
        "\n",
        "  for j in range(num_classes): # for each class\n",
        "    tp_count = 0\n",
        "    fn_count = 0\n",
        "    fp_count = 0\n",
        "    num_correct = 0\n",
        "    for i in range(batch_size): # for each image in batch\n",
        "      # counts number of correct predictions\n",
        "      if pred_labels[i][j] == labels[i][j]:\n",
        "        num_correct += 1\n",
        "\n",
        "      # counts number of true positives\n",
        "      if pred_labels[i][j] == 1 and labels[i][j] == 1:\n",
        "        tp_count += 1\n",
        "\n",
        "      # counts number of false negatives\n",
        "      elif pred_labels[i][j] == 0 and labels[i][j] == 1:\n",
        "        fn_count += 1\n",
        "      \n",
        "      # counts number of false positives\n",
        "      elif pred_labels[i][j] == 1 and labels[i][j] == 0:\n",
        "        fp_count += 1\n",
        "\n",
        "    # gets the sum of all the scores in the batch\n",
        "    accuracy_sum += num_correct/15\n",
        "    if (tp_count + fp_count) != 0:\n",
        "      precision_sum += tp_count/(tp_count + fp_count)\n",
        "    if (tp_count + fn_count) != 0:\n",
        "      recall_sum += tp_count/(tp_count + fn_count)\n",
        "\n",
        "    # averages the score across the batch by dividing by the batch size\n",
        "    accuracy_by_class.append(accuracy_sum/batch_size)\n",
        "    precision_by_class.append(precision_sum/batch_size)\n",
        "    recall_by_class.append(recall_sum/batch_size)\n",
        "\n",
        "  # returns average scores across the batch\n",
        "  return accuracy_by_class, precision_by_class, recall_by_class"
      ],
      "execution_count": 14,
      "outputs": []
    },
    {
      "cell_type": "code",
      "metadata": {
        "colab": {
          "base_uri": "https://localhost:8080/",
          "height": 232
        },
        "id": "vfkQ7yqlc0kN",
        "outputId": "5e896be6-3c4d-4f60-ce93-0e62c01086a3"
      },
      "source": [
        "accuracies = []\n",
        "precisions = []\n",
        "recalls = []\n",
        "\n",
        "for batch in test_it:\n",
        "  images = batch[0]\n",
        "  labels = batch[1]\n",
        "  print('Images shape:', images.shape)\n",
        "  print('Labels shape:', labels.shape)\n",
        "  # print('true_labels: \\n', labels)\n",
        "  pred = model.predict(images)\n",
        "  pred_labels = 1*(pred>0.5)\n",
        "  # print('pred_labels: \\n', pred_labels)\n",
        "\n",
        "  # gets average scores from the batch\n",
        "  batch_accuracy, batch_precision, batch_recall = get_batch_scores(labels, pred_labels) \n",
        "  accuracies.append(batch_accuracy)\n",
        "  precisions.append(batch_precision)\n",
        "  recalls.append(batch_recall)\n",
        "\n",
        "# averages the scores of all the batches\n",
        "accuracies = [sum(x) / len(x) for x in zip(*accuracies)]\n",
        "precisions = [sum(x) / len(x) for x in zip(*precisions)]\n",
        "recalls = [sum(x) / len(x) for x in zip(*recalls)]\n",
        "\n",
        "print('Accuracy: ', accuracies)\n",
        "print('Precision: ', precisions)\n",
        "print('Recall: ', recalls)\n"
      ],
      "execution_count": 2,
      "outputs": [
        {
          "output_type": "error",
          "ename": "NameError",
          "evalue": "ignored",
          "traceback": [
            "\u001b[0;31m---------------------------------------------------------------------------\u001b[0m",
            "\u001b[0;31mNameError\u001b[0m                                 Traceback (most recent call last)",
            "\u001b[0;32m<ipython-input-2-de849fb3849c>\u001b[0m in \u001b[0;36m<module>\u001b[0;34m()\u001b[0m\n\u001b[1;32m      3\u001b[0m \u001b[0mrecalls\u001b[0m \u001b[0;34m=\u001b[0m \u001b[0;34m[\u001b[0m\u001b[0;34m]\u001b[0m\u001b[0;34m\u001b[0m\u001b[0;34m\u001b[0m\u001b[0m\n\u001b[1;32m      4\u001b[0m \u001b[0;34m\u001b[0m\u001b[0m\n\u001b[0;32m----> 5\u001b[0;31m \u001b[0;32mfor\u001b[0m \u001b[0mbatch\u001b[0m \u001b[0;32min\u001b[0m \u001b[0mtest_it\u001b[0m\u001b[0;34m:\u001b[0m\u001b[0;34m\u001b[0m\u001b[0;34m\u001b[0m\u001b[0m\n\u001b[0m\u001b[1;32m      6\u001b[0m   \u001b[0mimages\u001b[0m \u001b[0;34m=\u001b[0m \u001b[0mbatch\u001b[0m\u001b[0;34m[\u001b[0m\u001b[0;36m0\u001b[0m\u001b[0;34m]\u001b[0m\u001b[0;34m\u001b[0m\u001b[0;34m\u001b[0m\u001b[0m\n\u001b[1;32m      7\u001b[0m   \u001b[0mlabels\u001b[0m \u001b[0;34m=\u001b[0m \u001b[0mbatch\u001b[0m\u001b[0;34m[\u001b[0m\u001b[0;36m1\u001b[0m\u001b[0;34m]\u001b[0m\u001b[0;34m\u001b[0m\u001b[0;34m\u001b[0m\u001b[0m\n",
            "\u001b[0;31mNameError\u001b[0m: name 'test_it' is not defined"
          ]
        }
      ]
    },
    {
      "cell_type": "code",
      "metadata": {
        "id": "my5quW2uo76l"
      },
      "source": [
        "while True:pass"
      ],
      "execution_count": null,
      "outputs": []
    }
  ]
}