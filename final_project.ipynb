{
 "cells": [
  {
   "cell_type": "markdown",
   "metadata": {},
   "source": [
    "# Detecting Lung Disease Using CNNs"
   ]
  },
  {
   "cell_type": "code",
   "execution_count": 10,
   "metadata": {},
   "outputs": [],
   "source": [
    "%matplotlib inline\n",
    "\n",
    "import os\n",
    "import numpy as np\n",
    "import tensorflow as tf\n",
    "import tensorflow_addons as tfa\n",
    "from PIL import Image\n",
    "from keras.applications import DenseNet121\n",
    "from keras.applications.densenet import preprocess_input\n",
    "from keras.models import Model\n",
    "from keras.layers import Flatten\n",
    "from keras.layers import Dense\n",
    "from keras.losses import CategoricalCrossentropy\n",
    "import matplotlib.pyplot as plt"
   ]
  },
  {
   "cell_type": "markdown",
   "metadata": {},
   "source": [
    "## Loading in the Data\n",
    "This section of code opens the files that contain information about each scan. The first file contains all of the names of the images we will use for training, the second file contains all of the names of the images we will use for testing. The third file contains the metadata for each image (patient id, gender, age, etc.)."
   ]
  },
  {
   "cell_type": "code",
   "execution_count": 2,
   "metadata": {},
   "outputs": [],
   "source": [
    "data_path = './xray_data/'\n",
    "\n",
    "# get all names of train images (86,524 training images)\n",
    "train_names_file = open(data_path + 'train_val_list.txt', 'r')\n",
    "train_names = [name.strip() for name in train_names_file.readlines()][:2000]\n",
    "train_names_file.close()\n",
    "\n",
    "# get all names of test images (25,596 testing images)\n",
    "test_names_file = open(data_path + 'test_list.txt', 'r')\n",
    "test_names = [name.strip() for name in test_names_file.readlines()][:500]\n",
    "test_names_file.close()\n",
    "\n",
    "# read data file\n",
    "info_file = open(data_path + 'Data_Entry_2017.csv')\n",
    "info = info_file.readlines()\n",
    "info_file.close()\n",
    "\n",
    "# read bounding box file\n",
    "bb_file = open(data_path + 'BBox_List_2017.csv')\n",
    "bb_coords = [coords.strip().split(',') for coords in bb_file.readlines()[1:]]\n",
    "bb_file.close()"
   ]
  },
  {
   "cell_type": "markdown",
   "metadata": {},
   "source": [
    "What I would like to do now is define `x_train`, `x_test`, `y_train`, and `y_test`. `x_train` will be all of the training images and should be of shape `(86524, 1024, 1024, 3)`, `y_train` will be all of the diagnoses corresponding to each training image and should be of shape `(86524, 14)`. `x_test` will be all of the testing images and should be of shape `(25596, 1024, 1024, 3)`, `y_test` will be all of the diagnoses corresponding to each testing image and should be of shape `(25596, 14)`. "
   ]
  },
  {
   "cell_type": "code",
   "execution_count": 3,
   "metadata": {},
   "outputs": [],
   "source": [
    "# get list of paths for all training and testing images\n",
    "train_path_list = []\n",
    "test_path_list = []\n",
    "for i in range(1, 13):\n",
    "    image_folder = data_path + 'images_{0:03}'.format(i) + '/images/'\n",
    "    for image_name in os.listdir(image_folder):\n",
    "        if image_name in train_names:\n",
    "            train_path_list.append(image_folder + image_name)\n",
    "        elif image_name in test_names:\n",
    "            test_path_list.append(image_folder + image_name)"
   ]
  },
  {
   "cell_type": "markdown",
   "metadata": {},
   "source": [
    "I am having to do a bit of heuristics here because there are some images that are of shape (1024, 1024, 4) when all images should be of shape (1024, 1024). I am guessing there is most likely a better way to go around this but since I am not aware of what that would be at the moment, we are going with heuristics. "
   ]
  },
  {
   "cell_type": "code",
   "execution_count": 4,
   "metadata": {},
   "outputs": [],
   "source": [
    "# convert images to numpy array\n",
    "train_images = []\n",
    "test_images = []\n",
    "names_included_train= []\n",
    "names_included_test = []\n",
    "\n",
    "# collects training images in an array\n",
    "for img in train_path_list:\n",
    "    train_img = np.asarray(Image.open(img))\n",
    "    if train_img.shape == (1024, 1024):\n",
    "        train_images.append(preprocess_input(train_img))\n",
    "        names_included_train.append(img.split('/')[-1])\n",
    "# collects testing images in an array\n",
    "for img in test_path_list:\n",
    "    test_img = np.asarray(Image.open(img))\n",
    "    if test_img.shape == (1024, 1024):\n",
    "        test_images.append(preprocess_input(test_img))\n",
    "        names_included_test.append(img.split('/')[-1])\n",
    "        \n",
    "        \n",
    "x_train = np.asarray(train_images) # converts list of training images into numpy array\n",
    "x_train = np.repeat(x_train[..., np.newaxis], 3, -1) # convert to 'rgb'\n",
    "\n",
    "x_test = np.asarray(test_images) # converts list of testing images into numpy array\n",
    "x_test = np.repeat(x_test[..., np.newaxis], 3, -1) # convert to 'rgb'"
   ]
  },
  {
   "cell_type": "code",
   "execution_count": 5,
   "metadata": {},
   "outputs": [],
   "source": [
    "# changes diagnoses to an integer coding\n",
    "diagnoses_dict = {\"No Finding\": 0,\n",
    "                  \"Atelectasis\": 1,\n",
    "                  \"Consolidation\": 2,\n",
    "                  \"Infiltration\": 3,\n",
    "                  \"Pneumothorax\": 4,\n",
    "                  \"Edema\": 5,\n",
    "                  \"Emphysema\": 6,\n",
    "                  \"Fibrosis\": 7,\n",
    "                  \"Effusion\": 8,\n",
    "                  \"Pneumonia\": 9,\n",
    "                  \"Pleural_Thickening\": 10,\n",
    "                  \"Cardiomegaly\": 11,\n",
    "                  \"Mass\": 12,\n",
    "                  \"Nodule\": 13,\n",
    "                  \"Hernia\": 14\n",
    "                 }\n",
    "\n",
    "# creates a dictionary that matches an image to its diagnosis\n",
    "name_to_name = {}\n",
    "for lst in info[1:]:\n",
    "    new_lst = lst.strip().split(',')\n",
    "    name = new_lst[0]\n",
    "    diagnoses = new_lst[1].split('|')\n",
    "    name_to_name[name] = diagnoses\n",
    "    \n",
    "# creates a dictionary that matches an image to its corresponding diagnosis integer\n",
    "info_dict = {}\n",
    "for name in name_to_name:\n",
    "    diag_names = name_to_name[name]\n",
    "    info_dict[name] = [diagnoses_dict[diag_name] for diag_name in diag_names]"
   ]
  },
  {
   "cell_type": "code",
   "execution_count": 6,
   "metadata": {},
   "outputs": [],
   "source": [
    "y_train = np.zeros((x_train.shape[0], len(diagnoses_dict)))\n",
    "y_test = np.zeros((x_test.shape[0], len(diagnoses_dict)))\n",
    "for name_idx, name in enumerate(names_included_train):\n",
    "    diagnoses = info_dict[name]\n",
    "    for diag_idx in range(len(y_train[name_idx])):\n",
    "        if diag_idx in diagnoses:\n",
    "            y_train[name_idx, diag_idx] = 1\n"
   ]
  },
  {
   "cell_type": "markdown",
   "metadata": {},
   "source": [
    "## Creating the Model\n",
    "Next, I am going to create the model that will train on the Chest X-Rays. I am going to start with a pre-trained network and see if that helps training go more smoothly. I am using categorical crossentropy as my loss function to allow for multiple labels being present. I also use sigmoid activation to accommodate multiple labels. "
   ]
  },
  {
   "cell_type": "code",
   "execution_count": 7,
   "metadata": {},
   "outputs": [
    {
     "name": "stdout",
     "output_type": "stream",
     "text": [
      "Epoch 1/5\n",
      "31/31 [==============================] - 8997s 289s/step - loss: 0.8339 - accuracy: 0.4544\n",
      "Epoch 2/5\n",
      "31/31 [==============================] - 8982s 290s/step - loss: 0.3497 - accuracy: 0.5763\n",
      "Epoch 3/5\n",
      "31/31 [==============================] - 9361s 303s/step - loss: 0.3116 - accuracy: 0.5708\n",
      "Epoch 4/5\n",
      "31/31 [==============================] - 9096s 293s/step - loss: 0.2985 - accuracy: 0.5640\n",
      "Epoch 5/5\n",
      "31/31 [==============================] - 9154s 295s/step - loss: 0.2912 - accuracy: 0.5695\n"
     ]
    }
   ],
   "source": [
    "# load model without classifier layers\n",
    "model = DenseNet121(include_top=False, input_shape=(1024, 1024, 3), weights='imagenet', pooling='max')\n",
    "\n",
    "# add new classifier layers\n",
    "flat1 = Flatten()(model.layers[-1].output)\n",
    "class1 = Dense(1024, activation='sigmoid')(flat1)\n",
    "output = Dense(15, activation='sigmoid')(class1)\n",
    "\n",
    "# define new model\n",
    "model = Model(inputs=model.inputs, outputs=output)\n",
    "\n",
    "for layer in model.layers[:-2]:\n",
    "    layer.trainable=False\n",
    "    \n",
    "model.compile(loss=[tfa.losses.SigmoidFocalCrossEntropy()], metrics=[\"accuracy\"], optimizer='adam')\n",
    "history = model.fit(x_train, y_train, batch_size=64, epochs=5)"
   ]
  },
  {
   "cell_type": "code",
   "execution_count": 12,
   "metadata": {},
   "outputs": [
    {
     "data": {
      "text/plain": [
       "[<matplotlib.lines.Line2D at 0x8c5d7bb10>]"
      ]
     },
     "execution_count": 12,
     "metadata": {},
     "output_type": "execute_result"
    },
    {
     "data": {
      "image/png": "[encoded data removed]",
      "text/plain": [
       "<Figure size 432x288 with 1 Axes>"
      ]
     },
     "metadata": {
      "needs_background": "light"
     },
     "output_type": "display_data"
    }
   ],
   "source": [
    "plt.plot(history.history['loss'])"
   ]
  },
  {
   "cell_type": "code",
   "execution_count": 13,
   "metadata": {},
   "outputs": [
    {
     "name": "stdout",
     "output_type": "stream",
     "text": [
      "16/16 [==============================] - 1101s 68s/step - loss: 0.1159 - accuracy: 1.0000\n"
     ]
    },
    {
     "data": {
      "text/plain": [
       "[0.11587262153625488, 1.0]"
      ]
     },
     "execution_count": 13,
     "metadata": {},
     "output_type": "execute_result"
    }
   ],
   "source": [
    "model.evaluate(x_test, y_test)"
   ]
  },
  {
   "cell_type": "code",
   "execution_count": null,
   "metadata": {},
   "outputs": [],
   "source": []
  }
 ],
 "metadata": {
  "kernelspec": {
   "display_name": "Python 3",
   "language": "python",
   "name": "python3"
  },
  "language_info": {
   "codemirror_mode": {
    "name": "ipython",
    "version": 3
   },
   "file_extension": ".py",
   "mimetype": "text/x-python",
   "name": "python",
   "nbconvert_exporter": "python",
   "pygments_lexer": "ipython3",
   "version": "3.7.6"
  }
 },
 "nbformat": 4,
 "nbformat_minor": 4
}
