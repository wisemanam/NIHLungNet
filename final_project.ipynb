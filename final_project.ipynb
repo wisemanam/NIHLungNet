{
 "cells": [
  {
   "cell_type": "markdown",
   "metadata": {},
   "source": [
    "# Detecting Lung Disease Using CNNs"
   ]
  },
  {
   "cell_type": "code",
   "execution_count": 1,
   "metadata": {},
   "outputs": [],
   "source": [
    "%matplotlib inline\n",
    "\n",
    "import os\n",
    "import numpy as np\n",
    "import tensorflow as tf\n",
    "import tensorflow_addons as tfa\n",
    "import pandas as pd\n",
    "from keras.applications import DenseNet121\n",
    "from keras.applications.densenet import preprocess_input\n",
    "from keras.models import Model\n",
    "from keras.layers import Flatten\n",
    "from keras.layers import Dense\n",
    "from keras.losses import CategoricalCrossentropy\n",
    "import matplotlib.pyplot as plt\n",
    "from keras.preprocessing.image import ImageDataGenerator"
   ]
  },
  {
   "cell_type": "markdown",
   "metadata": {},
   "source": [
    "## Loading in the Data"
   ]
  },
  {
   "cell_type": "code",
   "execution_count": 2,
   "metadata": {},
   "outputs": [],
   "source": [
    "data_path = './xray_data/'\n",
    "train_path = data_path + 'train/'\n",
    "test_path = data_path + 'test/'"
   ]
  },
  {
   "cell_type": "code",
   "execution_count": 3,
   "metadata": {},
   "outputs": [
    {
     "name": "stderr",
     "output_type": "stream",
     "text": [
      "/opt/anaconda3/lib/python3.7/site-packages/keras_preprocessing/image/dataframe_iterator.py:282: UserWarning: Found 2459 invalid image filename(s) in x_col=\"Image Index\". These filename(s) will be ignored.\n",
      "  .format(n_invalid, x_col)\n"
     ]
    },
    {
     "name": "stdout",
     "output_type": "stream",
     "text": [
      "Found 10960 validated image filenames belonging to 15 classes.\n",
      "Found 5368 validated image filenames belonging to 15 classes.\n"
     ]
    },
    {
     "name": "stderr",
     "output_type": "stream",
     "text": [
      "/opt/anaconda3/lib/python3.7/site-packages/keras_preprocessing/image/dataframe_iterator.py:282: UserWarning: Found 18237 invalid image filename(s) in x_col=\"Image Index\". These filename(s) will be ignored.\n",
      "  .format(n_invalid, x_col)\n"
     ]
    }
   ],
   "source": [
    "df = pd.read_csv(\"/Users/audreywiseman/Desktop/ANN/xray_data/Data_Entry_2017.csv\")\n",
    "df[\"Finding Labels\"]=df[\"Finding Labels\"].apply(lambda x:x.split(\",\"))\n",
    "\n",
    "classes = [\"No Finding\", \n",
    "           \"Atelectasis\", \n",
    "           \"Consolidation\", \n",
    "           \"Infiltration\",\n",
    "           \"Pneumothorax\",\n",
    "           \"Edema\",\n",
    "           \"Emphysema\",\n",
    "           \"Fibrosis\",\n",
    "           \"Effusion\",\n",
    "           \"Pneumonia\",\n",
    "           \"Pleural_Thickening\",\n",
    "           \"Cardiomegaly\",\n",
    "           \"Mass\",\n",
    "           \"Nodule\",\n",
    "           \"Hernia\"]\n",
    "\n",
    "datagen=ImageDataGenerator(rescale=1./255.)\n",
    "test_datagen=ImageDataGenerator(rescale=1./255.)\n",
    "\n",
    "# using 50000/86524 training images\n",
    "train_it=datagen.flow_from_dataframe(dataframe=df[:15000], \n",
    "                                            directory=train_path, \n",
    "                                            x_col=\"Image Index\", \n",
    "                                            y_col=\"Finding Labels\", \n",
    "                                            batch_size=32, \n",
    "                                            seed=42, \n",
    "                                            shuffle=True, \n",
    "                                            class_mode=\"categorical\",\n",
    "                                            classes=classes,\n",
    "                                            target_size=(1024,1024))\n",
    "test_it=test_datagen.flow_from_dataframe(dataframe=df[86524:],\n",
    "                                                directory=test_path,\n",
    "                                                x_col=\"Image Index\",\n",
    "                                                y_col=\"Finding Labels\",\n",
    "                                                batch_size=1,\n",
    "                                                seed=42,\n",
    "                                                shuffle=False,\n",
    "                                                class_mode=\"categorical\",\n",
    "                                                classes=classes,\n",
    "                                                target_size=(1024,1024))"
   ]
  },
  {
   "cell_type": "markdown",
   "metadata": {},
   "source": [
    "## Creating the Model\n",
    "Next, I am going to create the model that will train on the Chest X-Rays. I am going to start with a pre-trained network and see if that helps training go more smoothly. I am using categorical crossentropy as my loss function to allow for multiple labels being present. I also use sigmoid activation to accommodate multiple labels. "
   ]
  },
  {
   "cell_type": "code",
   "execution_count": null,
   "metadata": {},
   "outputs": [
    {
     "name": "stdout",
     "output_type": "stream",
     "text": [
      "Epoch 1/10\n",
      "  2/343 [..............................] - ETA: 6:54:49 - loss: 1.7262 - accuracy: 0.1719    "
     ]
    }
   ],
   "source": [
    "# load model without classifier layers\n",
    "model = DenseNet121(include_top=False, input_shape=(1024, 1024, 3), weights='imagenet', pooling='max')\n",
    "\n",
    "# add new classifier layers\n",
    "flat1 = Flatten()(model.layers[-1].output)\n",
    "class1 = Dense(1024, activation='sigmoid')(flat1)\n",
    "output = Dense(15, activation='sigmoid')(class1)\n",
    "\n",
    "# define new model\n",
    "model = Model(inputs=model.inputs, outputs=output)\n",
    "\n",
    "for layer in model.layers[:-2]:\n",
    "    layer.trainable=False\n",
    "    \n",
    "model.compile(loss=[tfa.losses.SigmoidFocalCrossEntropy(gamma=2.0)], metrics=[\"accuracy\"], optimizer='adam')\n",
    "history = model.fit(train_it, batch_size=128, epochs=10)"
   ]
  },
  {
   "cell_type": "code",
   "execution_count": 5,
   "metadata": {},
   "outputs": [
    {
     "data": {
      "text/plain": [
       "[<matplotlib.lines.Line2D at 0x65678a410>]"
      ]
     },
     "execution_count": 5,
     "metadata": {},
     "output_type": "execute_result"
    },
    {
     "data": {
      "image/png": "[encoded data removed]",
      "text/plain": [
       "<Figure size 432x288 with 1 Axes>"
      ]
     },
     "metadata": {
      "needs_background": "light"
     },
     "output_type": "display_data"
    }
   ],
   "source": [
    "plt.plot(history.history['loss'])"
   ]
  },
  {
   "cell_type": "code",
   "execution_count": 13,
   "metadata": {},
   "outputs": [
    {
     "name": "stdout",
     "output_type": "stream",
     "text": [
      "16/16 [==============================] - 1101s 68s/step - loss: 0.1159 - accuracy: 1.0000\n"
     ]
    },
    {
     "data": {
      "text/plain": [
       "[0.11587262153625488, 1.0]"
      ]
     },
     "execution_count": 13,
     "metadata": {},
     "output_type": "execute_result"
    }
   ],
   "source": [
    "model.evaluate(x_test, y_test)"
   ]
  },
  {
   "cell_type": "code",
   "execution_count": null,
   "metadata": {},
   "outputs": [],
   "source": []
  }
 ],
 "metadata": {
  "kernelspec": {
   "display_name": "Python 3",
   "language": "python",
   "name": "python3"
  },
  "language_info": {
   "codemirror_mode": {
    "name": "ipython",
    "version": 3
   },
   "file_extension": ".py",
   "mimetype": "text/x-python",
   "name": "python",
   "nbconvert_exporter": "python",
   "pygments_lexer": "ipython3",
   "version": "3.7.6"
  }
 },
 "nbformat": 4,
 "nbformat_minor": 4
}
