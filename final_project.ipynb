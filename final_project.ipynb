{
  "nbformat": 4,
  "nbformat_minor": 0,
  "metadata": {
    "accelerator": "GPU",
    "colab": {
      "name": "final_project.ipynb",
      "provenance": [],
      "collapsed_sections": [],
      "mount_file_id": "1-kkfDuwmS0_Lic6LbeZwhpSvhqVPlXFN",
      "authorship_tag": "ABX9TyObvSufjN7Ph06wHxZGAFYF",
      "include_colab_link": true
    },
    "kernelspec": {
      "display_name": "Python 3",
      "name": "python3"
    },
    "language_info": {
      "name": "python"
    }
  },
  "cells": [
    {
      "cell_type": "markdown",
      "metadata": {
        "id": "view-in-github",
        "colab_type": "text"
      },
      "source": [
        "<a href=\"https://colab.research.google.com/github/wisemanam/NIHLungNet/blob/main/final_project.ipynb\" target=\"_parent\"><img src=\"https://colab.research.google.com/assets/colab-badge.svg\" alt=\"Open In Colab\"/></a>"
      ]
    },
    {
      "cell_type": "markdown",
      "metadata": {
        "id": "HjPIzBC2tniA"
      },
      "source": [
        "# Detecting Lung Disease Using CNNs"
      ]
    },
    {
      "cell_type": "code",
      "metadata": {
        "colab": {
          "base_uri": "https://localhost:8080/"
        },
        "id": "YIKhOrDUtsSO",
        "outputId": "3d789d7c-1ce7-40fe-ee2e-190e3c8adde1"
      },
      "source": [
        "%matplotlib inline\n",
        "\n",
        "import os\n",
        "import numpy as np\n",
        "import tensorflow as tf\n",
        "!pip install tensorflow_addons\n",
        "import tensorflow_addons as tfa\n",
        "import pandas as pd\n",
        "from keras.applications import DenseNet121\n",
        "from keras.applications.densenet import preprocess_input\n",
        "from keras.models import Model\n",
        "from keras.layers import Flatten\n",
        "from keras.layers import Dense\n",
        "from keras.losses import CategoricalCrossentropy\n",
        "import matplotlib.pyplot as plt\n",
        "from keras.preprocessing.image import ImageDataGenerator"
      ],
      "execution_count": 2,
      "outputs": [
        {
          "output_type": "stream",
          "text": [
            "Collecting tensorflow_addons\n",
            "\u001b[?25l  Downloading https://files.pythonhosted.org/packages/74/e3/56d2fe76f0bb7c88ed9b2a6a557e25e83e252aec08f13de34369cd850a0b/tensorflow_addons-0.12.1-cp37-cp37m-manylinux2010_x86_64.whl (703kB)\n",
            "\r\u001b[K     |▌                               | 10kB 18.7MB/s eta 0:00:01\r\u001b[K     |█                               | 20kB 26.6MB/s eta 0:00:01\r\u001b[K     |█▍                              | 30kB 28.0MB/s eta 0:00:01\r\u001b[K     |█▉                              | 40kB 20.6MB/s eta 0:00:01\r\u001b[K     |██▎                             | 51kB 16.8MB/s eta 0:00:01\r\u001b[K     |██▉                             | 61kB 14.7MB/s eta 0:00:01\r\u001b[K     |███▎                            | 71kB 16.2MB/s eta 0:00:01\r\u001b[K     |███▊                            | 81kB 16.4MB/s eta 0:00:01\r\u001b[K     |████▏                           | 92kB 16.2MB/s eta 0:00:01\r\u001b[K     |████▋                           | 102kB 17.4MB/s eta 0:00:01\r\u001b[K     |█████▏                          | 112kB 17.4MB/s eta 0:00:01\r\u001b[K     |█████▋                          | 122kB 17.4MB/s eta 0:00:01\r\u001b[K     |██████                          | 133kB 17.4MB/s eta 0:00:01\r\u001b[K     |██████▌                         | 143kB 17.4MB/s eta 0:00:01\r\u001b[K     |███████                         | 153kB 17.4MB/s eta 0:00:01\r\u001b[K     |███████▌                        | 163kB 17.4MB/s eta 0:00:01\r\u001b[K     |████████                        | 174kB 17.4MB/s eta 0:00:01\r\u001b[K     |████████▍                       | 184kB 17.4MB/s eta 0:00:01\r\u001b[K     |████████▉                       | 194kB 17.4MB/s eta 0:00:01\r\u001b[K     |█████████▎                      | 204kB 17.4MB/s eta 0:00:01\r\u001b[K     |█████████▉                      | 215kB 17.4MB/s eta 0:00:01\r\u001b[K     |██████████▎                     | 225kB 17.4MB/s eta 0:00:01\r\u001b[K     |██████████▊                     | 235kB 17.4MB/s eta 0:00:01\r\u001b[K     |███████████▏                    | 245kB 17.4MB/s eta 0:00:01\r\u001b[K     |███████████▋                    | 256kB 17.4MB/s eta 0:00:01\r\u001b[K     |████████████▏                   | 266kB 17.4MB/s eta 0:00:01\r\u001b[K     |████████████▋                   | 276kB 17.4MB/s eta 0:00:01\r\u001b[K     |█████████████                   | 286kB 17.4MB/s eta 0:00:01\r\u001b[K     |█████████████▌                  | 296kB 17.4MB/s eta 0:00:01\r\u001b[K     |██████████████                  | 307kB 17.4MB/s eta 0:00:01\r\u001b[K     |██████████████▍                 | 317kB 17.4MB/s eta 0:00:01\r\u001b[K     |███████████████                 | 327kB 17.4MB/s eta 0:00:01\r\u001b[K     |███████████████▍                | 337kB 17.4MB/s eta 0:00:01\r\u001b[K     |███████████████▉                | 348kB 17.4MB/s eta 0:00:01\r\u001b[K     |████████████████▎               | 358kB 17.4MB/s eta 0:00:01\r\u001b[K     |████████████████▊               | 368kB 17.4MB/s eta 0:00:01\r\u001b[K     |█████████████████▎              | 378kB 17.4MB/s eta 0:00:01\r\u001b[K     |█████████████████▊              | 389kB 17.4MB/s eta 0:00:01\r\u001b[K     |██████████████████▏             | 399kB 17.4MB/s eta 0:00:01\r\u001b[K     |██████████████████▋             | 409kB 17.4MB/s eta 0:00:01\r\u001b[K     |███████████████████             | 419kB 17.4MB/s eta 0:00:01\r\u001b[K     |███████████████████▋            | 430kB 17.4MB/s eta 0:00:01\r\u001b[K     |████████████████████            | 440kB 17.4MB/s eta 0:00:01\r\u001b[K     |████████████████████▌           | 450kB 17.4MB/s eta 0:00:01\r\u001b[K     |█████████████████████           | 460kB 17.4MB/s eta 0:00:01\r\u001b[K     |█████████████████████▍          | 471kB 17.4MB/s eta 0:00:01\r\u001b[K     |██████████████████████          | 481kB 17.4MB/s eta 0:00:01\r\u001b[K     |██████████████████████▍         | 491kB 17.4MB/s eta 0:00:01\r\u001b[K     |██████████████████████▉         | 501kB 17.4MB/s eta 0:00:01\r\u001b[K     |███████████████████████▎        | 512kB 17.4MB/s eta 0:00:01\r\u001b[K     |███████████████████████▊        | 522kB 17.4MB/s eta 0:00:01\r\u001b[K     |████████████████████████▎       | 532kB 17.4MB/s eta 0:00:01\r\u001b[K     |████████████████████████▊       | 542kB 17.4MB/s eta 0:00:01\r\u001b[K     |█████████████████████████▏      | 552kB 17.4MB/s eta 0:00:01\r\u001b[K     |█████████████████████████▋      | 563kB 17.4MB/s eta 0:00:01\r\u001b[K     |██████████████████████████      | 573kB 17.4MB/s eta 0:00:01\r\u001b[K     |██████████████████████████▋     | 583kB 17.4MB/s eta 0:00:01\r\u001b[K     |███████████████████████████     | 593kB 17.4MB/s eta 0:00:01\r\u001b[K     |███████████████████████████▌    | 604kB 17.4MB/s eta 0:00:01\r\u001b[K     |████████████████████████████    | 614kB 17.4MB/s eta 0:00:01\r\u001b[K     |████████████████████████████▍   | 624kB 17.4MB/s eta 0:00:01\r\u001b[K     |████████████████████████████▉   | 634kB 17.4MB/s eta 0:00:01\r\u001b[K     |█████████████████████████████▍  | 645kB 17.4MB/s eta 0:00:01\r\u001b[K     |█████████████████████████████▉  | 655kB 17.4MB/s eta 0:00:01\r\u001b[K     |██████████████████████████████▎ | 665kB 17.4MB/s eta 0:00:01\r\u001b[K     |██████████████████████████████▊ | 675kB 17.4MB/s eta 0:00:01\r\u001b[K     |███████████████████████████████▏| 686kB 17.4MB/s eta 0:00:01\r\u001b[K     |███████████████████████████████▊| 696kB 17.4MB/s eta 0:00:01\r\u001b[K     |████████████████████████████████| 706kB 17.4MB/s \n",
            "\u001b[?25hRequirement already satisfied: typeguard>=2.7 in /usr/local/lib/python3.7/dist-packages (from tensorflow_addons) (2.7.1)\n",
            "Installing collected packages: tensorflow-addons\n",
            "Successfully installed tensorflow-addons-0.12.1\n"
          ],
          "name": "stdout"
        }
      ]
    },
    {
      "cell_type": "markdown",
      "metadata": {
        "id": "swo4fAIztwPt"
      },
      "source": [
        "## Loading in the Data"
      ]
    },
    {
      "cell_type": "code",
      "metadata": {
        "id": "wjNPbqwit0v5"
      },
      "source": [
        "data_path = '/content/drive/MyDrive/data/xray_data/'\n",
        "train_path = data_path + 'train/'\n",
        "test_path = data_path + 'test/'"
      ],
      "execution_count": 3,
      "outputs": []
    },
    {
      "cell_type": "code",
      "metadata": {
        "colab": {
          "base_uri": "https://localhost:8080/"
        },
        "id": "bog1YqrBuLpd",
        "outputId": "39a49da1-42a5-4a99-d1fc-ff5351b8a8e5"
      },
      "source": [
        "df = pd.read_csv(data_path + \"Data_Entry_2017.csv\")\n",
        "df[\"Finding Labels\"]=df[\"Finding Labels\"].apply(lambda x:x.split(\",\"))\n",
        "classes = [\"No Finding\", \n",
        "           \"Atelectasis\", \n",
        "           \"Consolidation\", \n",
        "           \"Infiltration\",\n",
        "           \"Pneumothorax\",\n",
        "           \"Edema\",\n",
        "           \"Emphysema\",\n",
        "           \"Fibrosis\",\n",
        "           \"Effusion\",\n",
        "           \"Pneumonia\",\n",
        "           \"Pleural_Thickening\",\n",
        "           \"Cardiomegaly\",\n",
        "           \"Mass\",\n",
        "           \"Nodule\",\n",
        "           \"Hernia\"]\n",
        "\n",
        "datagen=ImageDataGenerator(rescale=1./255.)\n",
        "test_datagen=ImageDataGenerator(rescale=1./255.)\n",
        "\n",
        "# using 15000/86524 training images\n",
        "train_it=datagen.flow_from_dataframe(dataframe=df, \n",
        "                                            directory=train_path, \n",
        "                                            x_col=\"Image Index\", \n",
        "                                            y_col=\"Finding Labels\", \n",
        "                                            batch_size=32, \n",
        "                                            seed=42, \n",
        "                                            shuffle=True, \n",
        "                                            class_mode=\"categorical\",\n",
        "                                            classes=classes,\n",
        "                                            target_size=(1024,1024))\n",
        "\n",
        "# using 2000/~20000 testing images\n",
        "test_it=test_datagen.flow_from_dataframe(dataframe=df,\n",
        "                                                directory=test_path,\n",
        "                                                x_col=\"Image Index\",\n",
        "                                                y_col=\"Finding Labels\",\n",
        "                                                batch_size=1,\n",
        "                                                seed=42,\n",
        "                                                shuffle=False,\n",
        "                                                class_mode=\"categorical\",\n",
        "                                                classes=classes,\n",
        "                                                target_size=(1024,1024))"
      ],
      "execution_count": 4,
      "outputs": [
        {
          "output_type": "stream",
          "text": [
            "/usr/local/lib/python3.7/dist-packages/keras_preprocessing/image/dataframe_iterator.py:282: UserWarning: Found 89061 invalid image filename(s) in x_col=\"Image Index\". These filename(s) will be ignored.\n",
            "  .format(n_invalid, x_col)\n"
          ],
          "name": "stderr"
        },
        {
          "output_type": "stream",
          "text": [
            "Found 20075 validated image filenames belonging to 15 classes.\n",
            "Found 2340 validated image filenames belonging to 15 classes.\n"
          ],
          "name": "stdout"
        },
        {
          "output_type": "stream",
          "text": [
            "/usr/local/lib/python3.7/dist-packages/keras_preprocessing/image/dataframe_iterator.py:282: UserWarning: Found 108910 invalid image filename(s) in x_col=\"Image Index\". These filename(s) will be ignored.\n",
            "  .format(n_invalid, x_col)\n"
          ],
          "name": "stderr"
        }
      ]
    },
    {
      "cell_type": "markdown",
      "metadata": {
        "id": "W-2yDhxOuYPx"
      },
      "source": [
        "## Creating the Model\n",
        "Next, I am going to create the model that will train on the Chest X-Rays. I am going to start with a pre-trained network and see if that helps training go more smoothly. I am using categorical crossentropy as my loss function to allow for multiple labels being present. I also use sigmoid activation to accommodate multiple labels. "
      ]
    },
    {
      "cell_type": "code",
      "metadata": {
        "colab": {
          "base_uri": "https://localhost:8080/"
        },
        "id": "igMp9o_tuZoD",
        "outputId": "e37adf3c-edf7-4d0a-d9a4-ffd0b4b01aff"
      },
      "source": [
        "# load model without classifier layers\n",
        "model = DenseNet121(include_top=False, input_shape=(1024, 1024, 3), weights='imagenet', pooling='max')\n",
        "\n",
        "# add new classifier layers\n",
        "flat1 = Flatten()(model.layers[-1].output)\n",
        "class1 = Dense(1024, activation='sigmoid')(flat1)\n",
        "output = Dense(15, activation='sigmoid')(class1)\n",
        "\n",
        "# define new model\n",
        "model = Model(inputs=model.inputs, outputs=output)\n",
        "\n",
        "for layer in model.layers[:-25]:\n",
        "    layer.trainable=False\n",
        "    \n",
        "model.compile(loss=[tfa.losses.SigmoidFocalCrossEntropy(gamma=4.0)], metrics=[\"accuracy\"], optimizer='adam')\n",
        "history = model.fit(train_it, batch_size=256, epochs=75, validation_data=test_it)"
      ],
      "execution_count": 5,
      "outputs": [
        {
          "output_type": "stream",
          "text": [
            "Downloading data from https://storage.googleapis.com/tensorflow/keras-applications/densenet/densenet121_weights_tf_dim_ordering_tf_kernels_notop.h5\n",
            "29089792/29084464 [==============================] - 1s 0us/step\n",
            "Epoch 1/75\n",
            "628/628 [==============================] - 11611s 18s/step - loss: 0.1290 - accuracy: 0.6976 - val_loss: 0.0818 - val_accuracy: 0.5064\n",
            "Epoch 2/75\n",
            "628/628 [==============================] - 813s 1s/step - loss: 0.0620 - accuracy: 0.7132 - val_loss: 0.0818 - val_accuracy: 0.5064\n",
            "Epoch 3/75\n",
            "628/628 [==============================] - 827s 1s/step - loss: 0.0613 - accuracy: 0.7138 - val_loss: 0.0895 - val_accuracy: 0.5064\n",
            "Epoch 4/75\n",
            "628/628 [==============================] - 831s 1s/step - loss: 0.0613 - accuracy: 0.7162 - val_loss: 0.0887 - val_accuracy: 0.5064\n",
            "Epoch 5/75\n",
            "628/628 [==============================] - 843s 1s/step - loss: 0.0611 - accuracy: 0.7188 - val_loss: 0.0886 - val_accuracy: 0.5064\n",
            "Epoch 6/75\n",
            "628/628 [==============================] - 850s 1s/step - loss: 0.0615 - accuracy: 0.7177 - val_loss: 0.0859 - val_accuracy: 0.5064\n",
            "Epoch 7/75\n",
            "628/628 [==============================] - 843s 1s/step - loss: 0.0624 - accuracy: 0.7100 - val_loss: 0.1014 - val_accuracy: 0.5064\n",
            "Epoch 8/75\n",
            "628/628 [==============================] - 841s 1s/step - loss: 0.0623 - accuracy: 0.7162 - val_loss: 0.0979 - val_accuracy: 0.5064\n",
            "Epoch 9/75\n",
            "628/628 [==============================] - 841s 1s/step - loss: 0.0627 - accuracy: 0.7148 - val_loss: 0.0962 - val_accuracy: 0.5064\n",
            "Epoch 10/75\n",
            "628/628 [==============================] - 840s 1s/step - loss: 0.0618 - accuracy: 0.7162 - val_loss: 0.1002 - val_accuracy: 0.5064\n",
            "Epoch 11/75\n",
            "628/628 [==============================] - 855s 1s/step - loss: 0.0626 - accuracy: 0.7119 - val_loss: 0.0922 - val_accuracy: 0.5064\n",
            "Epoch 12/75\n",
            "628/628 [==============================] - 864s 1s/step - loss: 0.0627 - accuracy: 0.7127 - val_loss: 0.0901 - val_accuracy: 0.5064\n",
            "Epoch 13/75\n",
            "628/628 [==============================] - 857s 1s/step - loss: 0.0622 - accuracy: 0.7147 - val_loss: 0.0953 - val_accuracy: 0.5064\n",
            "Epoch 14/75\n",
            "628/628 [==============================] - 848s 1s/step - loss: 0.0618 - accuracy: 0.7149 - val_loss: 0.0889 - val_accuracy: 0.5064\n",
            "Epoch 15/75\n",
            "628/628 [==============================] - 848s 1s/step - loss: 0.0619 - accuracy: 0.7152 - val_loss: 0.1047 - val_accuracy: 0.5064\n",
            "Epoch 16/75\n",
            "628/628 [==============================] - 847s 1s/step - loss: 0.0622 - accuracy: 0.7137 - val_loss: 0.0851 - val_accuracy: 0.5064\n",
            "Epoch 17/75\n",
            "628/628 [==============================] - 843s 1s/step - loss: 0.0628 - accuracy: 0.7152 - val_loss: 0.1079 - val_accuracy: 0.5064\n",
            "Epoch 18/75\n",
            "628/628 [==============================] - 840s 1s/step - loss: 0.0624 - accuracy: 0.7179 - val_loss: 0.0964 - val_accuracy: 0.5064\n",
            "Epoch 19/75\n",
            "628/628 [==============================] - 840s 1s/step - loss: 0.0632 - accuracy: 0.7111 - val_loss: 0.0920 - val_accuracy: 0.5064\n",
            "Epoch 20/75\n",
            "628/628 [==============================] - 845s 1s/step - loss: 0.0624 - accuracy: 0.7164 - val_loss: 0.0906 - val_accuracy: 0.5064\n",
            "Epoch 21/75\n",
            "628/628 [==============================] - 832s 1s/step - loss: 0.0625 - accuracy: 0.7143 - val_loss: 0.0800 - val_accuracy: 0.5064\n",
            "Epoch 22/75\n",
            "628/628 [==============================] - 840s 1s/step - loss: 0.0627 - accuracy: 0.7116 - val_loss: 0.0916 - val_accuracy: 0.5064\n",
            "Epoch 23/75\n",
            "628/628 [==============================] - 840s 1s/step - loss: 0.0621 - accuracy: 0.7164 - val_loss: 0.0964 - val_accuracy: 0.5064\n",
            "Epoch 24/75\n",
            "628/628 [==============================] - 838s 1s/step - loss: 0.0628 - accuracy: 0.7180 - val_loss: 0.0951 - val_accuracy: 0.5064\n",
            "Epoch 25/75\n",
            "628/628 [==============================] - 856s 1s/step - loss: 0.0620 - accuracy: 0.7190 - val_loss: 0.0959 - val_accuracy: 0.5064\n",
            "Epoch 26/75\n",
            "628/628 [==============================] - 853s 1s/step - loss: 0.0622 - accuracy: 0.7203 - val_loss: 0.0877 - val_accuracy: 0.5064\n",
            "Epoch 27/75\n",
            "628/628 [==============================] - 841s 1s/step - loss: 0.0615 - accuracy: 0.7190 - val_loss: 0.0836 - val_accuracy: 0.5064\n",
            "Epoch 28/75\n",
            "628/628 [==============================] - 839s 1s/step - loss: 0.0619 - accuracy: 0.7197 - val_loss: 0.0872 - val_accuracy: 0.5064\n",
            "Epoch 29/75\n",
            "628/628 [==============================] - 838s 1s/step - loss: 0.0620 - accuracy: 0.7223 - val_loss: 0.0902 - val_accuracy: 0.5064\n",
            "Epoch 30/75\n",
            "628/628 [==============================] - 837s 1s/step - loss: 0.0629 - accuracy: 0.7109 - val_loss: 0.0907 - val_accuracy: 0.5064\n",
            "Epoch 31/75\n",
            "628/628 [==============================] - 841s 1s/step - loss: 0.0623 - accuracy: 0.7137 - val_loss: 0.0913 - val_accuracy: 0.5064\n",
            "Epoch 32/75\n",
            "628/628 [==============================] - 849s 1s/step - loss: 0.0629 - accuracy: 0.7131 - val_loss: 0.0898 - val_accuracy: 0.5064\n",
            "Epoch 33/75\n",
            "628/628 [==============================] - 848s 1s/step - loss: 0.0618 - accuracy: 0.7161 - val_loss: 0.0910 - val_accuracy: 0.5064\n",
            "Epoch 34/75\n",
            "628/628 [==============================] - 843s 1s/step - loss: 0.0628 - accuracy: 0.7145 - val_loss: 0.0956 - val_accuracy: 0.5064\n",
            "Epoch 35/75\n",
            "628/628 [==============================] - 856s 1s/step - loss: 0.0618 - accuracy: 0.7166 - val_loss: 0.0965 - val_accuracy: 0.5064\n",
            "Epoch 36/75\n",
            "628/628 [==============================] - 872s 1s/step - loss: 0.0624 - accuracy: 0.7144 - val_loss: 0.0890 - val_accuracy: 0.5064\n",
            "Epoch 37/75\n",
            "628/628 [==============================] - 851s 1s/step - loss: 0.0631 - accuracy: 0.7141 - val_loss: 0.0936 - val_accuracy: 0.5064\n",
            "Epoch 38/75\n",
            "628/628 [==============================] - 837s 1s/step - loss: 0.0618 - accuracy: 0.7160 - val_loss: 0.0924 - val_accuracy: 0.5064\n",
            "Epoch 39/75\n",
            "628/628 [==============================] - 845s 1s/step - loss: 0.0625 - accuracy: 0.7170 - val_loss: 0.0978 - val_accuracy: 0.5064\n",
            "Epoch 40/75\n",
            "628/628 [==============================] - 848s 1s/step - loss: 0.0625 - accuracy: 0.7167 - val_loss: 0.0886 - val_accuracy: 0.5064\n",
            "Epoch 41/75\n",
            "628/628 [==============================] - 856s 1s/step - loss: 0.0623 - accuracy: 0.7148 - val_loss: 0.0914 - val_accuracy: 0.5064\n",
            "Epoch 42/75\n",
            "628/628 [==============================] - 853s 1s/step - loss: 0.0618 - accuracy: 0.7173 - val_loss: 0.0973 - val_accuracy: 0.5064\n",
            "Epoch 43/75\n",
            "628/628 [==============================] - 857s 1s/step - loss: 0.0624 - accuracy: 0.7202 - val_loss: 0.0831 - val_accuracy: 0.5064\n",
            "Epoch 44/75\n",
            "628/628 [==============================] - 860s 1s/step - loss: 0.0621 - accuracy: 0.7192 - val_loss: 0.1064 - val_accuracy: 0.5064\n",
            "Epoch 45/75\n",
            "628/628 [==============================] - 857s 1s/step - loss: 0.0621 - accuracy: 0.7150 - val_loss: 0.0898 - val_accuracy: 0.5064\n",
            "Epoch 46/75\n",
            "628/628 [==============================] - 839s 1s/step - loss: 0.0631 - accuracy: 0.7177 - val_loss: 0.0871 - val_accuracy: 0.5064\n",
            "Epoch 47/75\n",
            "628/628 [==============================] - 841s 1s/step - loss: 0.0618 - accuracy: 0.7156 - val_loss: 0.0888 - val_accuracy: 0.5064\n",
            "Epoch 48/75\n",
            "628/628 [==============================] - 845s 1s/step - loss: 0.0622 - accuracy: 0.7160 - val_loss: 0.0832 - val_accuracy: 0.5064\n",
            "Epoch 49/75\n",
            "628/628 [==============================] - 852s 1s/step - loss: 0.0625 - accuracy: 0.7125 - val_loss: 0.0960 - val_accuracy: 0.5064\n",
            "Epoch 50/75\n",
            "628/628 [==============================] - 849s 1s/step - loss: 0.0618 - accuracy: 0.7165 - val_loss: 0.0863 - val_accuracy: 0.5064\n",
            "Epoch 51/75\n",
            "628/628 [==============================] - 850s 1s/step - loss: 0.0628 - accuracy: 0.7127 - val_loss: 0.0858 - val_accuracy: 0.5064\n",
            "Epoch 52/75\n",
            "628/628 [==============================] - 838s 1s/step - loss: 0.0628 - accuracy: 0.7148 - val_loss: 0.0962 - val_accuracy: 0.5064\n",
            "Epoch 53/75\n",
            "628/628 [==============================] - 850s 1s/step - loss: 0.0622 - accuracy: 0.7195 - val_loss: 0.0934 - val_accuracy: 0.5064\n",
            "Epoch 54/75\n",
            "628/628 [==============================] - 839s 1s/step - loss: 0.0625 - accuracy: 0.7106 - val_loss: 0.1088 - val_accuracy: 0.5064\n",
            "Epoch 55/75\n",
            "628/628 [==============================] - 834s 1s/step - loss: 0.0629 - accuracy: 0.7143 - val_loss: 0.0878 - val_accuracy: 0.5064\n",
            "Epoch 56/75\n",
            "628/628 [==============================] - 831s 1s/step - loss: 0.0619 - accuracy: 0.7191 - val_loss: 0.1029 - val_accuracy: 0.5064\n",
            "Epoch 57/75\n",
            "628/628 [==============================] - 843s 1s/step - loss: 0.0629 - accuracy: 0.7146 - val_loss: 0.0910 - val_accuracy: 0.5064\n",
            "Epoch 58/75\n",
            "628/628 [==============================] - 828s 1s/step - loss: 0.0622 - accuracy: 0.7211 - val_loss: 0.0933 - val_accuracy: 0.5064\n",
            "Epoch 59/75\n",
            "628/628 [==============================] - 834s 1s/step - loss: 0.0619 - accuracy: 0.7170 - val_loss: 0.0860 - val_accuracy: 0.5064\n",
            "Epoch 60/75\n",
            "628/628 [==============================] - 834s 1s/step - loss: 0.0623 - accuracy: 0.7142 - val_loss: 0.0870 - val_accuracy: 0.5064\n",
            "Epoch 61/75\n",
            "628/628 [==============================] - 835s 1s/step - loss: 0.0627 - accuracy: 0.7132 - val_loss: 0.0885 - val_accuracy: 0.5064\n",
            "Epoch 62/75\n",
            "628/628 [==============================] - 827s 1s/step - loss: 0.0620 - accuracy: 0.7168 - val_loss: 0.0941 - val_accuracy: 0.5064\n",
            "Epoch 63/75\n",
            "628/628 [==============================] - 822s 1s/step - loss: 0.0618 - accuracy: 0.7202 - val_loss: 0.0911 - val_accuracy: 0.5064\n",
            "Epoch 64/75\n",
            "628/628 [==============================] - 815s 1s/step - loss: 0.0611 - accuracy: 0.7181 - val_loss: 0.0891 - val_accuracy: 0.5064\n",
            "Epoch 65/75\n",
            "628/628 [==============================] - 821s 1s/step - loss: 0.0622 - accuracy: 0.7197 - val_loss: 0.0972 - val_accuracy: 0.5064\n",
            "Epoch 66/75\n",
            "628/628 [==============================] - 825s 1s/step - loss: 0.0626 - accuracy: 0.7164 - val_loss: 0.0868 - val_accuracy: 0.5064\n",
            "Epoch 67/75\n",
            "628/628 [==============================] - 822s 1s/step - loss: 0.0605 - accuracy: 0.7204 - val_loss: 0.0926 - val_accuracy: 0.5064\n",
            "Epoch 68/75\n",
            "628/628 [==============================] - 834s 1s/step - loss: 0.0626 - accuracy: 0.7155 - val_loss: 0.0853 - val_accuracy: 0.5064\n",
            "Epoch 69/75\n",
            "628/628 [==============================] - 839s 1s/step - loss: 0.0618 - accuracy: 0.7186 - val_loss: 0.1016 - val_accuracy: 0.5064\n",
            "Epoch 70/75\n",
            "628/628 [==============================] - 850s 1s/step - loss: 0.0620 - accuracy: 0.7149 - val_loss: 0.1030 - val_accuracy: 0.5064\n",
            "Epoch 71/75\n",
            "628/628 [==============================] - 836s 1s/step - loss: 0.0630 - accuracy: 0.7159 - val_loss: 0.0985 - val_accuracy: 0.5064\n",
            "Epoch 72/75\n",
            "628/628 [==============================] - 844s 1s/step - loss: 0.0619 - accuracy: 0.7135 - val_loss: 0.0936 - val_accuracy: 0.5064\n",
            "Epoch 73/75\n",
            "628/628 [==============================] - 834s 1s/step - loss: 0.0619 - accuracy: 0.7154 - val_loss: 0.0913 - val_accuracy: 0.5064\n",
            "Epoch 74/75\n",
            "628/628 [==============================] - 857s 1s/step - loss: 0.0619 - accuracy: 0.7165 - val_loss: 0.0927 - val_accuracy: 0.5064\n",
            "Epoch 75/75\n",
            "628/628 [==============================] - 857s 1s/step - loss: 0.0618 - accuracy: 0.7187 - val_loss: 0.0934 - val_accuracy: 0.5064\n"
          ],
          "name": "stdout"
        }
      ]
    },
    {
      "cell_type": "code",
      "metadata": {
        "colab": {
          "base_uri": "https://localhost:8080/",
          "height": 282
        },
        "id": "jD1p-iNWEsD8",
        "outputId": "ee1498e7-b945-4b96-f76b-d9ada86ed860"
      },
      "source": [
        "plt.plot(history.history['loss'])\n",
        "plt.plot(history.history['accuracy'])"
      ],
      "execution_count": 6,
      "outputs": [
        {
          "output_type": "execute_result",
          "data": {
            "text/plain": [
              "[<matplotlib.lines.Line2D at 0x7f9d36191ad0>]"
            ]
          },
          "metadata": {
            "tags": []
          },
          "execution_count": 6
        },
        {
          "output_type": "display_data",
          "data": {
            "image/png": "[encoded data removed]",
            "text/plain": [
              "<Figure size 432x288 with 1 Axes>"
            ]
          },
          "metadata": {
            "tags": [],
            "needs_background": "light"
          }
        }
      ]
    },
    {
      "cell_type": "code",
      "metadata": {
        "id": "ceVzSGLNBu7a",
        "colab": {
          "base_uri": "https://localhost:8080/"
        },
        "outputId": "e6c5748f-1117-494d-a82d-8de5841edb37"
      },
      "source": [
        "model.evaluate(test_it)"
      ],
      "execution_count": 7,
      "outputs": [
        {
          "output_type": "stream",
          "text": [
            "2340/2340 [==============================] - 100s 43ms/step - loss: 0.0934 - accuracy: 0.5064\n"
          ],
          "name": "stdout"
        },
        {
          "output_type": "execute_result",
          "data": {
            "text/plain": [
              "[0.09343220293521881, 0.5064102411270142]"
            ]
          },
          "metadata": {
            "tags": []
          },
          "execution_count": 7
        }
      ]
    }
  ]
}